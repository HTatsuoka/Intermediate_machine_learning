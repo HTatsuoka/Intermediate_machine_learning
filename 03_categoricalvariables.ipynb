{
 "cells": [
  {
   "cell_type": "code",
   "execution_count": 1,
   "metadata": {
    "collapsed": true
   },
   "outputs": [
    {
     "data": {
      "text/html": [
       "<div>\n",
       "<style scoped>\n",
       "    .dataframe tbody tr th:only-of-type {\n",
       "        vertical-align: middle;\n",
       "    }\n",
       "\n",
       "    .dataframe tbody tr th {\n",
       "        vertical-align: top;\n",
       "    }\n",
       "\n",
       "    .dataframe thead th {\n",
       "        text-align: right;\n",
       "    }\n",
       "</style>\n",
       "<table border=\"1\" class=\"dataframe\">\n",
       "  <thead>\n",
       "    <tr style=\"text-align: right;\">\n",
       "      <th></th>\n",
       "      <th>MSSubClass</th>\n",
       "      <th>MSZoning</th>\n",
       "      <th>LotArea</th>\n",
       "      <th>Street</th>\n",
       "      <th>LotShape</th>\n",
       "      <th>LandContour</th>\n",
       "      <th>Utilities</th>\n",
       "      <th>LotConfig</th>\n",
       "      <th>LandSlope</th>\n",
       "      <th>Neighborhood</th>\n",
       "      <th>...</th>\n",
       "      <th>OpenPorchSF</th>\n",
       "      <th>EnclosedPorch</th>\n",
       "      <th>3SsnPorch</th>\n",
       "      <th>ScreenPorch</th>\n",
       "      <th>PoolArea</th>\n",
       "      <th>MiscVal</th>\n",
       "      <th>MoSold</th>\n",
       "      <th>YrSold</th>\n",
       "      <th>SaleType</th>\n",
       "      <th>SaleCondition</th>\n",
       "    </tr>\n",
       "    <tr>\n",
       "      <th>Id</th>\n",
       "      <th></th>\n",
       "      <th></th>\n",
       "      <th></th>\n",
       "      <th></th>\n",
       "      <th></th>\n",
       "      <th></th>\n",
       "      <th></th>\n",
       "      <th></th>\n",
       "      <th></th>\n",
       "      <th></th>\n",
       "      <th></th>\n",
       "      <th></th>\n",
       "      <th></th>\n",
       "      <th></th>\n",
       "      <th></th>\n",
       "      <th></th>\n",
       "      <th></th>\n",
       "      <th></th>\n",
       "      <th></th>\n",
       "      <th></th>\n",
       "      <th></th>\n",
       "    </tr>\n",
       "  </thead>\n",
       "  <tbody>\n",
       "    <tr>\n",
       "      <th>619</th>\n",
       "      <td>20</td>\n",
       "      <td>RL</td>\n",
       "      <td>11694</td>\n",
       "      <td>Pave</td>\n",
       "      <td>Reg</td>\n",
       "      <td>Lvl</td>\n",
       "      <td>AllPub</td>\n",
       "      <td>Inside</td>\n",
       "      <td>Gtl</td>\n",
       "      <td>NridgHt</td>\n",
       "      <td>...</td>\n",
       "      <td>108</td>\n",
       "      <td>0</td>\n",
       "      <td>0</td>\n",
       "      <td>260</td>\n",
       "      <td>0</td>\n",
       "      <td>0</td>\n",
       "      <td>7</td>\n",
       "      <td>2007</td>\n",
       "      <td>New</td>\n",
       "      <td>Partial</td>\n",
       "    </tr>\n",
       "    <tr>\n",
       "      <th>871</th>\n",
       "      <td>20</td>\n",
       "      <td>RL</td>\n",
       "      <td>6600</td>\n",
       "      <td>Pave</td>\n",
       "      <td>Reg</td>\n",
       "      <td>Lvl</td>\n",
       "      <td>AllPub</td>\n",
       "      <td>Inside</td>\n",
       "      <td>Gtl</td>\n",
       "      <td>NAmes</td>\n",
       "      <td>...</td>\n",
       "      <td>0</td>\n",
       "      <td>0</td>\n",
       "      <td>0</td>\n",
       "      <td>0</td>\n",
       "      <td>0</td>\n",
       "      <td>0</td>\n",
       "      <td>8</td>\n",
       "      <td>2009</td>\n",
       "      <td>WD</td>\n",
       "      <td>Normal</td>\n",
       "    </tr>\n",
       "    <tr>\n",
       "      <th>93</th>\n",
       "      <td>30</td>\n",
       "      <td>RL</td>\n",
       "      <td>13360</td>\n",
       "      <td>Pave</td>\n",
       "      <td>IR1</td>\n",
       "      <td>HLS</td>\n",
       "      <td>AllPub</td>\n",
       "      <td>Inside</td>\n",
       "      <td>Gtl</td>\n",
       "      <td>Crawfor</td>\n",
       "      <td>...</td>\n",
       "      <td>0</td>\n",
       "      <td>44</td>\n",
       "      <td>0</td>\n",
       "      <td>0</td>\n",
       "      <td>0</td>\n",
       "      <td>0</td>\n",
       "      <td>8</td>\n",
       "      <td>2009</td>\n",
       "      <td>WD</td>\n",
       "      <td>Normal</td>\n",
       "    </tr>\n",
       "    <tr>\n",
       "      <th>818</th>\n",
       "      <td>20</td>\n",
       "      <td>RL</td>\n",
       "      <td>13265</td>\n",
       "      <td>Pave</td>\n",
       "      <td>IR1</td>\n",
       "      <td>Lvl</td>\n",
       "      <td>AllPub</td>\n",
       "      <td>CulDSac</td>\n",
       "      <td>Gtl</td>\n",
       "      <td>Mitchel</td>\n",
       "      <td>...</td>\n",
       "      <td>59</td>\n",
       "      <td>0</td>\n",
       "      <td>0</td>\n",
       "      <td>0</td>\n",
       "      <td>0</td>\n",
       "      <td>0</td>\n",
       "      <td>7</td>\n",
       "      <td>2008</td>\n",
       "      <td>WD</td>\n",
       "      <td>Normal</td>\n",
       "    </tr>\n",
       "    <tr>\n",
       "      <th>303</th>\n",
       "      <td>20</td>\n",
       "      <td>RL</td>\n",
       "      <td>13704</td>\n",
       "      <td>Pave</td>\n",
       "      <td>IR1</td>\n",
       "      <td>Lvl</td>\n",
       "      <td>AllPub</td>\n",
       "      <td>Corner</td>\n",
       "      <td>Gtl</td>\n",
       "      <td>CollgCr</td>\n",
       "      <td>...</td>\n",
       "      <td>81</td>\n",
       "      <td>0</td>\n",
       "      <td>0</td>\n",
       "      <td>0</td>\n",
       "      <td>0</td>\n",
       "      <td>0</td>\n",
       "      <td>1</td>\n",
       "      <td>2006</td>\n",
       "      <td>WD</td>\n",
       "      <td>Normal</td>\n",
       "    </tr>\n",
       "  </tbody>\n",
       "</table>\n",
       "<p>5 rows × 60 columns</p>\n",
       "</div>"
      ],
      "text/plain": [
       "     MSSubClass MSZoning  LotArea Street LotShape LandContour Utilities  \\\n",
       "Id                                                                        \n",
       "619          20       RL    11694   Pave      Reg         Lvl    AllPub   \n",
       "871          20       RL     6600   Pave      Reg         Lvl    AllPub   \n",
       "93           30       RL    13360   Pave      IR1         HLS    AllPub   \n",
       "818          20       RL    13265   Pave      IR1         Lvl    AllPub   \n",
       "303          20       RL    13704   Pave      IR1         Lvl    AllPub   \n",
       "\n",
       "    LotConfig LandSlope Neighborhood  ... OpenPorchSF EnclosedPorch 3SsnPorch  \\\n",
       "Id                                    ...                                       \n",
       "619    Inside       Gtl      NridgHt  ...         108             0         0   \n",
       "871    Inside       Gtl        NAmes  ...           0             0         0   \n",
       "93     Inside       Gtl      Crawfor  ...           0            44         0   \n",
       "818   CulDSac       Gtl      Mitchel  ...          59             0         0   \n",
       "303    Corner       Gtl      CollgCr  ...          81             0         0   \n",
       "\n",
       "    ScreenPorch  PoolArea  MiscVal  MoSold  YrSold SaleType SaleCondition  \n",
       "Id                                                                         \n",
       "619         260         0        0       7    2007      New       Partial  \n",
       "871           0         0        0       8    2009       WD        Normal  \n",
       "93            0         0        0       8    2009       WD        Normal  \n",
       "818           0         0        0       7    2008       WD        Normal  \n",
       "303           0         0        0       1    2006       WD        Normal  \n",
       "\n",
       "[5 rows x 60 columns]"
      ]
     },
     "execution_count": 1,
     "metadata": {},
     "output_type": "execute_result"
    }
   ],
   "source": [
    "# pandasとtrain_test_splitを呼び出し\n",
    "import pandas as pd\n",
    "from sklearn.model_selection import train_test_split\n",
    "# データ読み込み\n",
    "X = pd.read_csv('train.csv', index_col='Id')\n",
    "X_test = pd.read_csv( 'test.csv', index_col='Id')\n",
    "\n",
    "# 'SalePrice'のない行を削除\n",
    "# inplace指定で元のdata frameを置き換える\n",
    "X.dropna(axis=0, subset=['SalePrice'], inplace=True)\n",
    "# 目的変数と説明変数に分割\n",
    "y = X.SalePrice\n",
    "X.drop(['SalePrice'], axis=1, inplace=True)\n",
    "\n",
    "## 欠損値のあるデータを削除\n",
    "# 欠損値のある列名を抽出\n",
    "cols_with_missing = [col for col in X.columns\n",
    "                     if X[col].isnull().any()]\n",
    "# 訓練用、テスト用からそれぞれ欠損値のある列を落とす\n",
    "X.drop(cols_with_missing, axis=1, inplace=True)\n",
    "X_test.drop(cols_with_missing, axis=1, inplace=True)\n",
    "# 訓練データと検証データに分ける\n",
    "X_train, X_valid, y_train, y_valid = train_test_split(X, y, train_size=0.8, test_size=0.2, random_state=0)\n",
    "# データを確認\n",
    "X_train.head()"
   ]
  },
  {
   "cell_type": "code",
   "execution_count": 2,
   "metadata": {
    "collapsed": false
   },
   "outputs": [],
   "source": [
    "# ランダムフォレストとMAEを呼び出し\n",
    "from sklearn.ensemble import RandomForestRegressor\n",
    "from sklearn.metrics import mean_absolute_error\n",
    "# モデルのスコアリングを行う関数を作成\n",
    "def score_dataset(X_train, X_valid, y_train, y_valid):\n",
    "    model = RandomForestRegressor(n_estimators=100, random_state=0)\n",
    "    model.fit(X_train, y_train)\n",
    "    preds = model.predict(X_valid)\n",
    "    return mean_absolute_error(y_valid, preds)"
   ]
  },
  {
   "cell_type": "markdown",
   "metadata": {
    "collapsed": false
   },
   "source": [
    "# Step 1:Drop columns with categorical data"
   ]
  },
  {
   "cell_type": "code",
   "execution_count": 3,
   "metadata": {
    "collapsed": false
   },
   "outputs": [
    {
     "data": {
      "text/plain": [
       "MSSubClass        int64\n",
       "MSZoning         object\n",
       "LotArea           int64\n",
       "Street           object\n",
       "LotShape         object\n",
       "LandContour      object\n",
       "Utilities        object\n",
       "LotConfig        object\n",
       "LandSlope        object\n",
       "Neighborhood     object\n",
       "Condition1       object\n",
       "Condition2       object\n",
       "BldgType         object\n",
       "HouseStyle       object\n",
       "OverallQual       int64\n",
       "OverallCond       int64\n",
       "YearBuilt         int64\n",
       "YearRemodAdd      int64\n",
       "RoofStyle        object\n",
       "RoofMatl         object\n",
       "Exterior1st      object\n",
       "Exterior2nd      object\n",
       "ExterQual        object\n",
       "ExterCond        object\n",
       "Foundation       object\n",
       "BsmtFinSF1        int64\n",
       "BsmtFinSF2        int64\n",
       "BsmtUnfSF         int64\n",
       "TotalBsmtSF       int64\n",
       "Heating          object\n",
       "HeatingQC        object\n",
       "CentralAir       object\n",
       "1stFlrSF          int64\n",
       "2ndFlrSF          int64\n",
       "LowQualFinSF      int64\n",
       "GrLivArea         int64\n",
       "BsmtFullBath      int64\n",
       "BsmtHalfBath      int64\n",
       "FullBath          int64\n",
       "HalfBath          int64\n",
       "BedroomAbvGr      int64\n",
       "KitchenAbvGr      int64\n",
       "KitchenQual      object\n",
       "TotRmsAbvGrd      int64\n",
       "Functional       object\n",
       "Fireplaces        int64\n",
       "GarageCars        int64\n",
       "GarageArea        int64\n",
       "PavedDrive       object\n",
       "WoodDeckSF        int64\n",
       "OpenPorchSF       int64\n",
       "EnclosedPorch     int64\n",
       "3SsnPorch         int64\n",
       "ScreenPorch       int64\n",
       "PoolArea          int64\n",
       "MiscVal           int64\n",
       "MoSold            int64\n",
       "YrSold            int64\n",
       "SaleType         object\n",
       "SaleCondition    object\n",
       "dtype: object"
      ]
     },
     "execution_count": 3,
     "metadata": {},
     "output_type": "execute_result"
    }
   ],
   "source": [
    "#カラムごとにデータ型を表示\n",
    "X_train.dtypes"
   ]
  },
  {
   "cell_type": "code",
   "execution_count": 4,
   "metadata": {
    "collapsed": false
   },
   "outputs": [
    {
     "data": {
      "text/plain": [
       "MSSubClass       False\n",
       "MSZoning          True\n",
       "LotArea          False\n",
       "Street            True\n",
       "LotShape          True\n",
       "LandContour       True\n",
       "Utilities         True\n",
       "LotConfig         True\n",
       "LandSlope         True\n",
       "Neighborhood      True\n",
       "Condition1        True\n",
       "Condition2        True\n",
       "BldgType          True\n",
       "HouseStyle        True\n",
       "OverallQual      False\n",
       "OverallCond      False\n",
       "YearBuilt        False\n",
       "YearRemodAdd     False\n",
       "RoofStyle         True\n",
       "RoofMatl          True\n",
       "Exterior1st       True\n",
       "Exterior2nd       True\n",
       "ExterQual         True\n",
       "ExterCond         True\n",
       "Foundation        True\n",
       "BsmtFinSF1       False\n",
       "BsmtFinSF2       False\n",
       "BsmtUnfSF        False\n",
       "TotalBsmtSF      False\n",
       "Heating           True\n",
       "HeatingQC         True\n",
       "CentralAir        True\n",
       "1stFlrSF         False\n",
       "2ndFlrSF         False\n",
       "LowQualFinSF     False\n",
       "GrLivArea        False\n",
       "BsmtFullBath     False\n",
       "BsmtHalfBath     False\n",
       "FullBath         False\n",
       "HalfBath         False\n",
       "BedroomAbvGr     False\n",
       "KitchenAbvGr     False\n",
       "KitchenQual       True\n",
       "TotRmsAbvGrd     False\n",
       "Functional        True\n",
       "Fireplaces       False\n",
       "GarageCars       False\n",
       "GarageArea       False\n",
       "PavedDrive        True\n",
       "WoodDeckSF       False\n",
       "OpenPorchSF      False\n",
       "EnclosedPorch    False\n",
       "3SsnPorch        False\n",
       "ScreenPorch      False\n",
       "PoolArea         False\n",
       "MiscVal          False\n",
       "MoSold           False\n",
       "YrSold           False\n",
       "SaleType          True\n",
       "SaleCondition     True\n",
       "dtype: bool"
      ]
     },
     "execution_count": 4,
     "metadata": {},
     "output_type": "execute_result"
    }
   ],
   "source": [
    "X_train.dtypes == 'object'"
   ]
  },
  {
   "cell_type": "code",
   "execution_count": 5,
   "metadata": {
    "collapsed": false
   },
   "outputs": [
    {
     "data": {
      "text/plain": [
       "MSZoning         True\n",
       "Street           True\n",
       "LotShape         True\n",
       "LandContour      True\n",
       "Utilities        True\n",
       "LotConfig        True\n",
       "LandSlope        True\n",
       "Neighborhood     True\n",
       "Condition1       True\n",
       "Condition2       True\n",
       "BldgType         True\n",
       "HouseStyle       True\n",
       "RoofStyle        True\n",
       "RoofMatl         True\n",
       "Exterior1st      True\n",
       "Exterior2nd      True\n",
       "ExterQual        True\n",
       "ExterCond        True\n",
       "Foundation       True\n",
       "Heating          True\n",
       "HeatingQC        True\n",
       "CentralAir       True\n",
       "KitchenQual      True\n",
       "Functional       True\n",
       "PavedDrive       True\n",
       "SaleType         True\n",
       "SaleCondition    True\n",
       "dtype: bool"
      ]
     },
     "execution_count": 5,
     "metadata": {},
     "output_type": "execute_result"
    }
   ],
   "source": [
    "# カテゴリカル変数のリストを取得\n",
    "s = (X_train.dtypes=='object')\n",
    "s[s]"
   ]
  },
  {
   "cell_type": "code",
   "execution_count": 6,
   "metadata": {
    "collapsed": false
   },
   "outputs": [
    {
     "data": {
      "text/plain": [
       "Index(['MSZoning', 'Street', 'LotShape', 'LandContour', 'Utilities',\n",
       "       'LotConfig', 'LandSlope', 'Neighborhood', 'Condition1', 'Condition2',\n",
       "       'BldgType', 'HouseStyle', 'RoofStyle', 'RoofMatl', 'Exterior1st',\n",
       "       'Exterior2nd', 'ExterQual', 'ExterCond', 'Foundation', 'Heating',\n",
       "       'HeatingQC', 'CentralAir', 'KitchenQual', 'Functional', 'PavedDrive',\n",
       "       'SaleType', 'SaleCondition'],\n",
       "      dtype='object')"
      ]
     },
     "execution_count": 6,
     "metadata": {},
     "output_type": "execute_result"
    }
   ],
   "source": [
    "s[s].index"
   ]
  },
  {
   "cell_type": "code",
   "execution_count": 7,
   "metadata": {
    "collapsed": false
   },
   "outputs": [],
   "source": [
    "object_cols = list(s[s].index)"
   ]
  },
  {
   "cell_type": "code",
   "execution_count": 8,
   "metadata": {
    "collapsed": false
   },
   "outputs": [
    {
     "name": "stdout",
     "output_type": "stream",
     "text": [
      "MAE from Approach 1 (Drop categorical variables):\n",
      "17837.82570776256\n"
     ]
    }
   ],
   "source": [
    "# カテゴリカル変数を削除\n",
    "drop_X_train = X_train.drop(object_cols, axis=1)\n",
    "drop_X_valid = X_valid.drop(object_cols, axis=1)\n",
    "# drop_X_train = X_train.select_dtypes(exclude=['object']) でも同じ結果\n",
    "\n",
    "# スコアを表示\n",
    "print(\"MAE from Approach 1 (Drop categorical variables):\")\n",
    "print(score_dataset(drop_X_train, drop_X_valid, y_train, y_valid))"
   ]
  },
  {
   "cell_type": "code",
   "execution_count": 9,
   "metadata": {
    "collapsed": false
   },
   "outputs": [
    {
     "name": "stdout",
     "output_type": "stream",
     "text": [
      "Unique values in 'Condition2' column in training data: ['Norm' 'PosA' 'Feedr' 'PosN' 'Artery' 'RRAe']\n",
      "\n",
      "Unique values in 'Condition2' column in validation data: ['Norm' 'RRAn' 'RRNn' 'Artery' 'Feedr' 'PosN']\n",
      "{'PosN', 'PosA', 'Norm', 'RRAe', 'Artery', 'Feedr'}\n"
     ]
    }
   ],
   "source": [
    "# Condition2の列の値を確認 uniqueを使うと配列型(np.array)で帰ってくる\n",
    "print(\"Unique values in 'Condition2' column in training data:\", X_train['Condition2'].unique())\n",
    "print(\"\\nUnique values in 'Condition2' column in validation data:\", X_valid['Condition2'].unique())\n",
    "# setでもよい。集合型(sets)になる。\n",
    "print(set(X_train['Condition2']))"
   ]
  },
  {
   "cell_type": "markdown",
   "metadata": {
    "collapsed": false
   },
   "source": [
    "# Step 2: Ordinal encoding\n",
    "## Part A\n",
    "学習データの列に序数エンコーダを当てはめると、学習データに現れるユニークな値それぞれに対応する整数値のラベルが作成されます。検証データに学習データにもない値が含まれている場合、これらの値には整数が割り当てられないので、エンコーダはエラーを投げます。検証データの 'Condition2' カラムには 'RRAn' と 'RRNn' という値がありますが、これらは学習データには現れないので、 scikit-learn で序数エンコーダを使おうとするとエラーになります。"
   ]
  },
  {
   "cell_type": "code",
   "execution_count": 10,
   "metadata": {
    "collapsed": false
   },
   "outputs": [
    {
     "name": "stdout",
     "output_type": "stream",
     "text": [
      "Categorical columns that will be ordinal encoded: ['MSZoning', 'Street', 'LotShape', 'LandContour', 'Utilities', 'LotConfig', 'LandSlope', 'Neighborhood', 'Condition1', 'BldgType', 'HouseStyle', 'RoofStyle', 'Exterior1st', 'Exterior2nd', 'ExterQual', 'ExterCond', 'Foundation', 'Heating', 'HeatingQC', 'CentralAir', 'KitchenQual', 'PavedDrive', 'SaleType', 'SaleCondition']\n",
      "\n",
      "Categorical columns that will be dropped from the dataset: ['Condition2', 'Functional', 'RoofMatl']\n"
     ]
    }
   ],
   "source": [
    "# カテゴリカル変数の列を抽出\n",
    "object_cols = [col for col in X_train.columns if X_train[col].dtype == 'object']\n",
    "# X_validの要素がX_trainの要素に含まれるものを抽出(issubset または <= で判別)\n",
    "good_label_cols = [col for col in object_cols\n",
    "                   if set(X_valid[col]).issubset(set(X_train[col]))]\n",
    "# X_validの要素でX_trainにないものを抽出\n",
    "bad_label_cols = list(set(object_cols) - set(good_label_cols))\n",
    "# それぞれの中身を表示\n",
    "print('Categorical columns that will be ordinal encoded:', good_label_cols)\n",
    "print('\\nCategorical columns that will be dropped from the dataset:', bad_label_cols)"
   ]
  },
  {
   "cell_type": "markdown",
   "metadata": {
    "collapsed": false
   },
   "source": [
    "## Part B"
   ]
  },
  {
   "cell_type": "code",
   "execution_count": 11,
   "metadata": {
    "collapsed": false
   },
   "outputs": [
    {
     "name": "stdout",
     "output_type": "stream",
     "text": [
      "MAE from Approach 2 (Ordinal Encoding):\n",
      "17098.01649543379\n"
     ]
    }
   ],
   "source": [
    "# Ordinal encoderをインポート\n",
    "from sklearn.preprocessing import OrdinalEncoder\n",
    "# bad_labelになったものを落とす\n",
    "label_X_train = X_train.drop(bad_label_cols, axis=1)\n",
    "label_X_valid = X_valid.drop(bad_label_cols, axis=1)\n",
    "# ordinal encoderを定義\n",
    "ordinal_encoder = OrdinalEncoder()\n",
    "# ordinal encoderで\n",
    "label_X_train[good_label_cols] = ordinal_encoder.fit_transform(X_train[good_label_cols])\n",
    "label_X_valid[good_label_cols] = ordinal_encoder.transform(X_valid[good_label_cols])\n",
    "\n",
    "print(\"MAE from Approach 2 (Ordinal Encoding):\")\n",
    "print(score_dataset(label_X_train, label_X_valid, y_train, y_valid))"
   ]
  },
  {
   "cell_type": "markdown",
   "metadata": {
    "collapsed": false
   },
   "source": [
    "これまで、あなたはカテゴリ変数を扱うために2つの異なるアプローチを試してきました。そして、カテゴリデータをエンコードすることで、データセットから列を削除するよりも良い結果が得られることがわかりました。\n",
    "\n",
    "近々、ワンホットエンコーディングを試してみることにしましょう。その前に、もう一つ説明しなければならないことがあります。次のコードセルを変更せずに実行することから始めてください。"
   ]
  },
  {
   "cell_type": "code",
   "execution_count": 12,
   "metadata": {},
   "outputs": [
    {
     "data": {
      "text/plain": [
       "[('Street', 2),\n",
       " ('Utilities', 2),\n",
       " ('CentralAir', 2),\n",
       " ('LandSlope', 3),\n",
       " ('PavedDrive', 3),\n",
       " ('LotShape', 4),\n",
       " ('LandContour', 4),\n",
       " ('ExterQual', 4),\n",
       " ('KitchenQual', 4),\n",
       " ('MSZoning', 5),\n",
       " ('LotConfig', 5),\n",
       " ('BldgType', 5),\n",
       " ('ExterCond', 5),\n",
       " ('HeatingQC', 5),\n",
       " ('Condition2', 6),\n",
       " ('RoofStyle', 6),\n",
       " ('Foundation', 6),\n",
       " ('Heating', 6),\n",
       " ('Functional', 6),\n",
       " ('SaleCondition', 6),\n",
       " ('RoofMatl', 7),\n",
       " ('HouseStyle', 8),\n",
       " ('Condition1', 9),\n",
       " ('SaleType', 9),\n",
       " ('Exterior1st', 15),\n",
       " ('Exterior2nd', 16),\n",
       " ('Neighborhood', 25)]"
      ]
     },
     "execution_count": 12,
     "metadata": {},
     "output_type": "execute_result"
    }
   ],
   "source": [
    "## カテゴリカル変数の列それぞれのデータの種類をカウント\n",
    "# map関数と無名関数でリスト内に関数を適応 map(関数, イテラブル)\n",
    "# .nuniqueでユニークの個数を取得\n",
    "# mapはリストに変換しないと参照できない\n",
    "object_nunique = list(map(lambda col: X_train[col].nunique(), object_cols))\n",
    "# zipで2つのリストから辞書を作る\n",
    "d = dict(zip(object_cols, object_nunique))\n",
    "\n",
    "# 辞書の並び替え\n",
    "sorted(d.items(), key=lambda x: x[1])"
   ]
  },
  {
   "cell_type": "markdown",
   "metadata": {},
   "source": [
    "# Step 3: Investigating cardinality\n",
    "## Part A\n",
    "上の出力は、カテゴリデータを持つ各列について、その列のユニークな値の数を示しています。例えば、学習データの'Street'列には2つのユニークな値があります。Grvl'と'Pave'であり、それぞれ砂利道と舗装路に相当する。\n",
    "我々は、カテゴリ変数のユニークなエントリの数を、そのカテゴリ変数の基数（cardinality）と呼ぶことにする。たとえば，'Street' 変数は，基数 2 を持つ．\n",
    "## Part B\n",
    "多くの行を持つ大規模なデータセットでは、ワンホットエンコーディングを行うと、データセットのサイズが大きく膨らんでしまうことがあります。このため、通常、比較的カーディナリティの低い列のみをワンホットエンコードすることにしている。そして、カーディナリティの高い列はデータセットから削除するか、序数エンコードを使用することができる。\n",
    "次に、ワンホットエンコーディングの実験を行います。しかし、データセットのすべてのカテゴリ変数をエンコードするのではなく、カーディナリティが10未満の列に対してのみ、ワンホットエンコーディングを作成します。\n",
    "以下のコードを変更せずに実行して、low_cardinality_colsをワンホットエンコーディングされる列を含むPythonのリストに設定します。同様に、high_cardinality_colsには、データセットから削除されるカテゴリカルカラムのリストが格納されます。"
   ]
  },
  {
   "cell_type": "code",
   "execution_count": 13,
   "metadata": {},
   "outputs": [
    {
     "name": "stdout",
     "output_type": "stream",
     "text": [
      "Categorical columns that will be one-hot encoded: ['MSZoning', 'Street', 'LotShape', 'LandContour', 'Utilities', 'LotConfig', 'LandSlope', 'Condition1', 'Condition2', 'BldgType', 'HouseStyle', 'RoofStyle', 'RoofMatl', 'ExterQual', 'ExterCond', 'Foundation', 'Heating', 'HeatingQC', 'CentralAir', 'KitchenQual', 'Functional', 'PavedDrive', 'SaleType', 'SaleCondition']\n",
      "\n",
      "Categorical columns that will be dropped from the dataset: ['Neighborhood', 'Exterior2nd', 'Exterior1st']\n"
     ]
    }
   ],
   "source": [
    "# object_colsの中でユニーク個数の10未満のものを出力\n",
    "low_cardinality_cols = [col for col in object_cols if X_train[col].nunique() < 10]\n",
    "\n",
    "# 10以上のものも出力\n",
    "high_cardinality_cols = list(set(object_cols)-set(low_cardinality_cols))\n",
    "\n",
    "print('Categorical columns that will be one-hot encoded:', low_cardinality_cols)\n",
    "print('\\nCategorical columns that will be dropped from the dataset:', high_cardinality_cols)"
   ]
  },
  {
   "cell_type": "markdown",
   "metadata": {},
   "source": [
    "# Step 4: One-hot encoding\n",
    "\n",
    "次のコードセルを使って、X_train と X_valid のデータをワンホットエンコードする。前処理したDataFrameをそれぞれOH_X_trainとOH_X_validにセットします。\n",
    "データセットのカテゴリカラムの全リストは、Pythonのリストobject_colsに記載されています。\n",
    "low_cardinality_colsにあるカテゴリカルカラムだけをワンホットエンコードする必要があります。それ以外のカテゴリカルカラムはデータセットから削除する必要があります。"
   ]
  },
  {
   "cell_type": "code",
   "execution_count": 18,
   "metadata": {},
   "outputs": [
    {
     "name": "stdout",
     "output_type": "stream",
     "text": [
      "     MSSubClass  LotArea  OverallQual  OverallCond  YearBuilt  YearRemodAdd  \\\n",
      "Id                                                                            \n",
      "619          20    11694            9            5       2007          2007   \n",
      "871          20     6600            5            5       1962          1962   \n",
      "93           30    13360            5            7       1921          2006   \n",
      "818          20    13265            8            5       2002          2002   \n",
      "303          20    13704            7            5       2001          2002   \n",
      "\n",
      "     BsmtFinSF1  BsmtFinSF2  BsmtUnfSF  TotalBsmtSF  ...  112  113  114  115  \\\n",
      "Id                                                   ...                       \n",
      "619          48           0       1774         1822  ...  0.0  1.0  0.0  0.0   \n",
      "871           0           0        894          894  ...  0.0  0.0  0.0  1.0   \n",
      "93          713           0        163          876  ...  0.0  0.0  0.0  1.0   \n",
      "818        1218           0        350         1568  ...  0.0  0.0  0.0  1.0   \n",
      "303           0           0       1541         1541  ...  0.0  0.0  0.0  1.0   \n",
      "\n",
      "     116  117  118  119  120  121  \n",
      "Id                                 \n",
      "619  0.0  0.0  0.0  0.0  0.0  1.0  \n",
      "871  0.0  0.0  0.0  0.0  1.0  0.0  \n",
      "93   0.0  0.0  0.0  0.0  1.0  0.0  \n",
      "818  0.0  0.0  0.0  0.0  1.0  0.0  \n",
      "303  0.0  0.0  0.0  0.0  1.0  0.0  \n",
      "\n",
      "[5 rows x 155 columns]\n",
      "     MSSubClass  LotArea  OverallQual  OverallCond  YearBuilt  YearRemodAdd  \\\n",
      "Id                                                                            \n",
      "530          20    32668            6            3       1957          1975   \n",
      "492          50     9490            6            7       1941          1950   \n",
      "460          50     7015            5            4       1950          1950   \n",
      "280          60    10005            7            5       1977          1977   \n",
      "656         160     1680            6            5       1971          1971   \n",
      "\n",
      "     BsmtFinSF1  BsmtFinSF2  BsmtUnfSF  TotalBsmtSF  ...  112  113  114  115  \\\n",
      "Id                                                   ...                       \n",
      "530        1219           0        816         2035  ...  0.0  0.0  0.0  1.0   \n",
      "492         403         165        238          806  ...  0.0  0.0  0.0  1.0   \n",
      "460         185           0        524          709  ...  0.0  0.0  0.0  1.0   \n",
      "280         392           0        768         1160  ...  0.0  0.0  0.0  1.0   \n",
      "656           0           0        525          525  ...  0.0  0.0  0.0  1.0   \n",
      "\n",
      "     116  117  118  119  120  121  \n",
      "Id                                 \n",
      "530  0.0  0.0  1.0  0.0  0.0  0.0  \n",
      "492  0.0  0.0  0.0  0.0  1.0  0.0  \n",
      "460  0.0  0.0  0.0  0.0  1.0  0.0  \n",
      "280  0.0  0.0  0.0  0.0  1.0  0.0  \n",
      "656  0.0  0.0  0.0  1.0  0.0  0.0  \n",
      "\n",
      "[5 rows x 155 columns]\n"
     ]
    }
   ],
   "source": [
    "from operator import concat\n",
    "from sklearn.preprocessing import OneHotEncoder\n",
    "\n",
    "#  one hot encoderを定義\n",
    "# sparseではなくnumpy matrixにする\n",
    "OH_encoder = OneHotEncoder(handle_unknown='ignore', sparse=False)\n",
    "# リスト型で返ってくるのでdata frameにしておく\n",
    "OH_cols_train = pd.DataFrame(OH_encoder.fit_transform(X_train[low_cardinality_cols]))\n",
    "OH_cols_valid = pd.DataFrame(OH_encoder.transform(X_valid[low_cardinality_cols]))\n",
    "# indexが落ちているので再入力\n",
    "OH_cols_train.index = X_train.index\n",
    "OH_cols_valid.index = X_valid.index\n",
    "\n",
    "# カテゴリカル変数を一旦全て削除\n",
    "notOH_X_train = X_train.drop(object_cols, axis=1)\n",
    "notOH_X_valid = X_valid.drop(object_cols, axis=1)\n",
    "# one hotでエンコードした列のみ再度加える\n",
    "OH_X_train = pd.concat([notOH_X_train, OH_cols_train], axis=1)\n",
    "OH_X_valid = pd.concat([notOH_X_valid, OH_cols_valid], axis=1)\n",
    "\n",
    "print(OH_X_train.head())\n",
    "print(OH_X_valid.head())"
   ]
  },
  {
   "cell_type": "code",
   "execution_count": 20,
   "metadata": {},
   "outputs": [
    {
     "name": "stdout",
     "output_type": "stream",
     "text": [
      "MAE from Approach 3 (One-Hot Encoding):\n"
     ]
    },
    {
     "name": "stderr",
     "output_type": "stream",
     "text": [
      "/Users/htmbp2022/Library/Python/3.9/lib/python/site-packages/sklearn/utils/validation.py:1858: FutureWarning: Feature names only support names that are all strings. Got feature names with dtypes: ['int', 'str']. An error will be raised in 1.2.\n",
      "  warnings.warn(\n"
     ]
    },
    {
     "name": "stdout",
     "output_type": "stream",
     "text": [
      "17525.345719178084\n"
     ]
    },
    {
     "name": "stderr",
     "output_type": "stream",
     "text": [
      "/Users/htmbp2022/Library/Python/3.9/lib/python/site-packages/sklearn/utils/validation.py:1858: FutureWarning: Feature names only support names that are all strings. Got feature names with dtypes: ['int', 'str']. An error will be raised in 1.2.\n",
      "  warnings.warn(\n"
     ]
    }
   ],
   "source": [
    "print(\"MAE from Approach 3 (One-Hot Encoding):\") \n",
    "print(score_dataset(OH_X_train, OH_X_valid, y_train, y_valid))"
   ]
  },
  {
   "cell_type": "markdown",
   "metadata": {},
   "source": [
    "# まとめ"
   ]
  },
  {
   "cell_type": "code",
   "execution_count": null,
   "metadata": {},
   "outputs": [],
   "source": []
  }
 ],
 "metadata": {
  "kernelspec": {
   "display_name": "Python 3.9.6 64-bit",
   "language": "python",
   "name": "python3"
  },
  "language_info": {
   "codemirror_mode": {
    "name": "ipython",
    "version": 3
   },
   "file_extension": ".py",
   "mimetype": "text/x-python",
   "name": "python",
   "nbconvert_exporter": "python",
   "pygments_lexer": "ipython3",
   "version": "3.9.6"
  },
  "vscode": {
   "interpreter": {
    "hash": "31f2aee4e71d21fbe5cf8b01ff0e069b9275f58929596ceb00d14d90e3e16cd6"
   }
  }
 },
 "nbformat": 4,
 "nbformat_minor": 0
}
