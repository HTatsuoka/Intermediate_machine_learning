{
 "cells": [
  {
   "cell_type": "code",
   "execution_count": 8,
   "metadata": {
    "collapsed": true
   },
   "outputs": [
    {
     "data": {
      "text/plain": "     MSSubClass MSZoning  LotArea Street LotShape LandContour Utilities  \\\nId                                                                        \n619          20       RL    11694   Pave      Reg         Lvl    AllPub   \n871          20       RL     6600   Pave      Reg         Lvl    AllPub   \n93           30       RL    13360   Pave      IR1         HLS    AllPub   \n818          20       RL    13265   Pave      IR1         Lvl    AllPub   \n303          20       RL    13704   Pave      IR1         Lvl    AllPub   \n\n    LotConfig LandSlope Neighborhood  ... OpenPorchSF EnclosedPorch 3SsnPorch  \\\nId                                    ...                                       \n619    Inside       Gtl      NridgHt  ...         108             0         0   \n871    Inside       Gtl        NAmes  ...           0             0         0   \n93     Inside       Gtl      Crawfor  ...           0            44         0   \n818   CulDSac       Gtl      Mitchel  ...          59             0         0   \n303    Corner       Gtl      CollgCr  ...          81             0         0   \n\n    ScreenPorch  PoolArea  MiscVal  MoSold  YrSold SaleType SaleCondition  \nId                                                                         \n619         260         0        0       7    2007      New       Partial  \n871           0         0        0       8    2009       WD        Normal  \n93            0         0        0       8    2009       WD        Normal  \n818           0         0        0       7    2008       WD        Normal  \n303           0         0        0       1    2006       WD        Normal  \n\n[5 rows x 60 columns]",
      "text/html": "<div>\n<style scoped>\n    .dataframe tbody tr th:only-of-type {\n        vertical-align: middle;\n    }\n\n    .dataframe tbody tr th {\n        vertical-align: top;\n    }\n\n    .dataframe thead th {\n        text-align: right;\n    }\n</style>\n<table border=\"1\" class=\"dataframe\">\n  <thead>\n    <tr style=\"text-align: right;\">\n      <th></th>\n      <th>MSSubClass</th>\n      <th>MSZoning</th>\n      <th>LotArea</th>\n      <th>Street</th>\n      <th>LotShape</th>\n      <th>LandContour</th>\n      <th>Utilities</th>\n      <th>LotConfig</th>\n      <th>LandSlope</th>\n      <th>Neighborhood</th>\n      <th>...</th>\n      <th>OpenPorchSF</th>\n      <th>EnclosedPorch</th>\n      <th>3SsnPorch</th>\n      <th>ScreenPorch</th>\n      <th>PoolArea</th>\n      <th>MiscVal</th>\n      <th>MoSold</th>\n      <th>YrSold</th>\n      <th>SaleType</th>\n      <th>SaleCondition</th>\n    </tr>\n    <tr>\n      <th>Id</th>\n      <th></th>\n      <th></th>\n      <th></th>\n      <th></th>\n      <th></th>\n      <th></th>\n      <th></th>\n      <th></th>\n      <th></th>\n      <th></th>\n      <th></th>\n      <th></th>\n      <th></th>\n      <th></th>\n      <th></th>\n      <th></th>\n      <th></th>\n      <th></th>\n      <th></th>\n      <th></th>\n      <th></th>\n    </tr>\n  </thead>\n  <tbody>\n    <tr>\n      <th>619</th>\n      <td>20</td>\n      <td>RL</td>\n      <td>11694</td>\n      <td>Pave</td>\n      <td>Reg</td>\n      <td>Lvl</td>\n      <td>AllPub</td>\n      <td>Inside</td>\n      <td>Gtl</td>\n      <td>NridgHt</td>\n      <td>...</td>\n      <td>108</td>\n      <td>0</td>\n      <td>0</td>\n      <td>260</td>\n      <td>0</td>\n      <td>0</td>\n      <td>7</td>\n      <td>2007</td>\n      <td>New</td>\n      <td>Partial</td>\n    </tr>\n    <tr>\n      <th>871</th>\n      <td>20</td>\n      <td>RL</td>\n      <td>6600</td>\n      <td>Pave</td>\n      <td>Reg</td>\n      <td>Lvl</td>\n      <td>AllPub</td>\n      <td>Inside</td>\n      <td>Gtl</td>\n      <td>NAmes</td>\n      <td>...</td>\n      <td>0</td>\n      <td>0</td>\n      <td>0</td>\n      <td>0</td>\n      <td>0</td>\n      <td>0</td>\n      <td>8</td>\n      <td>2009</td>\n      <td>WD</td>\n      <td>Normal</td>\n    </tr>\n    <tr>\n      <th>93</th>\n      <td>30</td>\n      <td>RL</td>\n      <td>13360</td>\n      <td>Pave</td>\n      <td>IR1</td>\n      <td>HLS</td>\n      <td>AllPub</td>\n      <td>Inside</td>\n      <td>Gtl</td>\n      <td>Crawfor</td>\n      <td>...</td>\n      <td>0</td>\n      <td>44</td>\n      <td>0</td>\n      <td>0</td>\n      <td>0</td>\n      <td>0</td>\n      <td>8</td>\n      <td>2009</td>\n      <td>WD</td>\n      <td>Normal</td>\n    </tr>\n    <tr>\n      <th>818</th>\n      <td>20</td>\n      <td>RL</td>\n      <td>13265</td>\n      <td>Pave</td>\n      <td>IR1</td>\n      <td>Lvl</td>\n      <td>AllPub</td>\n      <td>CulDSac</td>\n      <td>Gtl</td>\n      <td>Mitchel</td>\n      <td>...</td>\n      <td>59</td>\n      <td>0</td>\n      <td>0</td>\n      <td>0</td>\n      <td>0</td>\n      <td>0</td>\n      <td>7</td>\n      <td>2008</td>\n      <td>WD</td>\n      <td>Normal</td>\n    </tr>\n    <tr>\n      <th>303</th>\n      <td>20</td>\n      <td>RL</td>\n      <td>13704</td>\n      <td>Pave</td>\n      <td>IR1</td>\n      <td>Lvl</td>\n      <td>AllPub</td>\n      <td>Corner</td>\n      <td>Gtl</td>\n      <td>CollgCr</td>\n      <td>...</td>\n      <td>81</td>\n      <td>0</td>\n      <td>0</td>\n      <td>0</td>\n      <td>0</td>\n      <td>0</td>\n      <td>1</td>\n      <td>2006</td>\n      <td>WD</td>\n      <td>Normal</td>\n    </tr>\n  </tbody>\n</table>\n<p>5 rows × 60 columns</p>\n</div>"
     },
     "execution_count": 8,
     "metadata": {},
     "output_type": "execute_result"
    }
   ],
   "source": [
    "# pandasとtrain_test_splitを呼び出し\n",
    "import pandas as pd\n",
    "from sklearn.model_selection import train_test_split\n",
    "# データ読み込み\n",
    "X = pd.read_csv('train.csv', index_col='Id')\n",
    "X_test = pd.read_csv( 'test.csv', index_col='Id')\n",
    "\n",
    "# 'SalePrice'のない行を削除\n",
    "# inplace指定で元のdata frameを置き換える\n",
    "X.dropna(axis=0, subset=['SalePrice'], inplace=True)\n",
    "# 目的変数と説明変数に分割\n",
    "y = X.SalePrice\n",
    "X.drop(['SalePrice'], axis=1, inplace=True)\n",
    "\n",
    "## 欠損値のあるデータを削除\n",
    "# 欠損値のある列名を抽出\n",
    "cols_with_missing = [col for col in X.columns\n",
    "                     if X[col].isnull().any()]\n",
    "# 訓練用、テスト用からそれぞれ欠損値のある列を落とす\n",
    "X.drop(cols_with_missing, axis=1, inplace=True)\n",
    "X_test.drop(cols_with_missing, axis=1, inplace=True)\n",
    "# 訓練データと検証データに分ける\n",
    "X_train, X_valid, y_train, y_valid = train_test_split(X, y, train_size=0.8, test_size=0.2, random_state=0)\n",
    "# データを確認\n",
    "X_train.head()"
   ]
  },
  {
   "cell_type": "markdown",
   "source": [],
   "metadata": {
    "collapsed": false
   }
  },
  {
   "cell_type": "code",
   "execution_count": 9,
   "outputs": [],
   "source": [
    "# ランダムフォレストとMAEを呼び出し\n",
    "from sklearn.ensemble import RandomForestRegressor\n",
    "from sklearn.metrics import mean_absolute_error\n",
    "# モデルのスコアリングを行う関数を作成\n",
    "def score_dataset(X_train, X_valid, y_train, y_valid):\n",
    "    model = RandomForestRegressor(n_estimators=100, random_state=0)\n",
    "    model.fit(X_train, y_train)\n",
    "    preds = model.predict(X_valid)\n",
    "    return mean_absolute_error(y_valid, preds)"
   ],
   "metadata": {
    "collapsed": false
   }
  },
  {
   "cell_type": "markdown",
   "source": [
    "# Step 1:Drop columns with categorical data"
   ],
   "metadata": {
    "collapsed": false
   }
  },
  {
   "cell_type": "code",
   "execution_count": 11,
   "outputs": [
    {
     "data": {
      "text/plain": "MSSubClass        int64\nMSZoning         object\nLotArea           int64\nStreet           object\nLotShape         object\nLandContour      object\nUtilities        object\nLotConfig        object\nLandSlope        object\nNeighborhood     object\nCondition1       object\nCondition2       object\nBldgType         object\nHouseStyle       object\nOverallQual       int64\nOverallCond       int64\nYearBuilt         int64\nYearRemodAdd      int64\nRoofStyle        object\nRoofMatl         object\nExterior1st      object\nExterior2nd      object\nExterQual        object\nExterCond        object\nFoundation       object\nBsmtFinSF1        int64\nBsmtFinSF2        int64\nBsmtUnfSF         int64\nTotalBsmtSF       int64\nHeating          object\nHeatingQC        object\nCentralAir       object\n1stFlrSF          int64\n2ndFlrSF          int64\nLowQualFinSF      int64\nGrLivArea         int64\nBsmtFullBath      int64\nBsmtHalfBath      int64\nFullBath          int64\nHalfBath          int64\nBedroomAbvGr      int64\nKitchenAbvGr      int64\nKitchenQual      object\nTotRmsAbvGrd      int64\nFunctional       object\nFireplaces        int64\nGarageCars        int64\nGarageArea        int64\nPavedDrive       object\nWoodDeckSF        int64\nOpenPorchSF       int64\nEnclosedPorch     int64\n3SsnPorch         int64\nScreenPorch       int64\nPoolArea          int64\nMiscVal           int64\nMoSold            int64\nYrSold            int64\nSaleType         object\nSaleCondition    object\ndtype: object"
     },
     "execution_count": 11,
     "metadata": {},
     "output_type": "execute_result"
    }
   ],
   "source": [
    "X_train.dtypes"
   ],
   "metadata": {
    "collapsed": false
   }
  },
  {
   "cell_type": "code",
   "execution_count": 12,
   "outputs": [
    {
     "data": {
      "text/plain": "MSSubClass       False\nMSZoning          True\nLotArea          False\nStreet            True\nLotShape          True\nLandContour       True\nUtilities         True\nLotConfig         True\nLandSlope         True\nNeighborhood      True\nCondition1        True\nCondition2        True\nBldgType          True\nHouseStyle        True\nOverallQual      False\nOverallCond      False\nYearBuilt        False\nYearRemodAdd     False\nRoofStyle         True\nRoofMatl          True\nExterior1st       True\nExterior2nd       True\nExterQual         True\nExterCond         True\nFoundation        True\nBsmtFinSF1       False\nBsmtFinSF2       False\nBsmtUnfSF        False\nTotalBsmtSF      False\nHeating           True\nHeatingQC         True\nCentralAir        True\n1stFlrSF         False\n2ndFlrSF         False\nLowQualFinSF     False\nGrLivArea        False\nBsmtFullBath     False\nBsmtHalfBath     False\nFullBath         False\nHalfBath         False\nBedroomAbvGr     False\nKitchenAbvGr     False\nKitchenQual       True\nTotRmsAbvGrd     False\nFunctional        True\nFireplaces       False\nGarageCars       False\nGarageArea       False\nPavedDrive        True\nWoodDeckSF       False\nOpenPorchSF      False\nEnclosedPorch    False\n3SsnPorch        False\nScreenPorch      False\nPoolArea         False\nMiscVal          False\nMoSold           False\nYrSold           False\nSaleType          True\nSaleCondition     True\ndtype: bool"
     },
     "execution_count": 12,
     "metadata": {},
     "output_type": "execute_result"
    }
   ],
   "source": [
    "X_train.dtypes == 'object'"
   ],
   "metadata": {
    "collapsed": false
   }
  },
  {
   "cell_type": "code",
   "execution_count": 13,
   "outputs": [
    {
     "data": {
      "text/plain": "MSZoning         True\nStreet           True\nLotShape         True\nLandContour      True\nUtilities        True\nLotConfig        True\nLandSlope        True\nNeighborhood     True\nCondition1       True\nCondition2       True\nBldgType         True\nHouseStyle       True\nRoofStyle        True\nRoofMatl         True\nExterior1st      True\nExterior2nd      True\nExterQual        True\nExterCond        True\nFoundation       True\nHeating          True\nHeatingQC        True\nCentralAir       True\nKitchenQual      True\nFunctional       True\nPavedDrive       True\nSaleType         True\nSaleCondition    True\ndtype: bool"
     },
     "execution_count": 13,
     "metadata": {},
     "output_type": "execute_result"
    }
   ],
   "source": [
    "# カテゴリカル変数のリストを取得\n",
    "s = (X_train.dtypes=='object')\n",
    "s[s]"
   ],
   "metadata": {
    "collapsed": false
   }
  },
  {
   "cell_type": "code",
   "execution_count": 14,
   "outputs": [
    {
     "data": {
      "text/plain": "Index(['MSZoning', 'Street', 'LotShape', 'LandContour', 'Utilities',\n       'LotConfig', 'LandSlope', 'Neighborhood', 'Condition1', 'Condition2',\n       'BldgType', 'HouseStyle', 'RoofStyle', 'RoofMatl', 'Exterior1st',\n       'Exterior2nd', 'ExterQual', 'ExterCond', 'Foundation', 'Heating',\n       'HeatingQC', 'CentralAir', 'KitchenQual', 'Functional', 'PavedDrive',\n       'SaleType', 'SaleCondition'],\n      dtype='object')"
     },
     "execution_count": 14,
     "metadata": {},
     "output_type": "execute_result"
    }
   ],
   "source": [
    "s[s].index"
   ],
   "metadata": {
    "collapsed": false
   }
  },
  {
   "cell_type": "code",
   "execution_count": 16,
   "outputs": [],
   "source": [
    "object_cols = list(s[s].index)"
   ],
   "metadata": {
    "collapsed": false
   }
  },
  {
   "cell_type": "code",
   "execution_count": 20,
   "outputs": [
    {
     "name": "stdout",
     "output_type": "stream",
     "text": [
      "MAE from Approach 1 (Drop categorical variables):\n",
      "17837.82570776256\n"
     ]
    }
   ],
   "source": [
    "# カテゴリカル変数を削除\n",
    "drop_X_train = X_train.drop(object_cols, axis=1)\n",
    "drop_X_valid = X_valid.drop(object_cols, axis=1)\n",
    "# drop_X_train = X_train.select_dtypes(exclude=['object']) でも同じ結果\n",
    "\n",
    "# スコアを表示\n",
    "print(\"MAE from Approach 1 (Drop categorical variables):\")\n",
    "print(score_dataset(drop_X_train, drop_X_valid, y_train, y_valid))"
   ],
   "metadata": {
    "collapsed": false
   }
  },
  {
   "cell_type": "code",
   "execution_count": 32,
   "outputs": [
    {
     "name": "stdout",
     "output_type": "stream",
     "text": [
      "Unique values in 'Condition2' column in training data: ['Norm' 'PosA' 'Feedr' 'PosN' 'Artery' 'RRAe']\n",
      "\n",
      "Unique values in 'Condition2' column in validation data: ['Norm' 'RRAn' 'RRNn' 'Artery' 'Feedr' 'PosN']\n",
      "{'RRAe', 'Artery', 'Feedr', 'PosA', 'Norm', 'PosN'}\n"
     ]
    }
   ],
   "source": [
    "# Condition2の列の値を確認 uniqueを使うと配列型(np.array)で帰ってくる\n",
    "print(\"Unique values in 'Condition2' column in training data:\", X_train['Condition2'].unique())\n",
    "print(\"\\nUnique values in 'Condition2' column in validation data:\", X_valid['Condition2'].unique())\n",
    "# setでもよい。集合型(sets)になる。\n",
    "print(set(X_train['Condition2']))"
   ],
   "metadata": {
    "collapsed": false
   }
  },
  {
   "cell_type": "markdown",
   "source": [
    "# Step 2: Ordinal encoding\n",
    "## Part A\n",
    "学習データの列に序数エンコーダを当てはめると、学習データに現れるユニークな値それぞれに対応する整数値のラベルが作成されます。検証データに学習データにもない値が含まれている場合、これらの値には整数が割り当てられないので、エンコーダはエラーを投げます。検証データの 'Condition2' カラムには 'RRAn' と 'RRNn' という値がありますが、これらは学習データには現れないので、 scikit-learn で序数エンコーダを使おうとするとエラーになります。"
   ],
   "metadata": {
    "collapsed": false
   }
  },
  {
   "cell_type": "code",
   "execution_count": 36,
   "outputs": [
    {
     "name": "stdout",
     "output_type": "stream",
     "text": [
      "Categorical columns that will be ordinal encoded: ['MSZoning', 'Street', 'LotShape', 'LandContour', 'Utilities', 'LotConfig', 'LandSlope', 'Neighborhood', 'Condition1', 'BldgType', 'HouseStyle', 'RoofStyle', 'Exterior1st', 'Exterior2nd', 'ExterQual', 'ExterCond', 'Foundation', 'Heating', 'HeatingQC', 'CentralAir', 'KitchenQual', 'PavedDrive', 'SaleType', 'SaleCondition']\n",
      "\n",
      "Categorical columns that will be dropped from the dataset: ['Condition2', 'RoofMatl', 'Functional']\n"
     ]
    }
   ],
   "source": [
    "# カテゴリカル変数の列を抽出\n",
    "object_cols = [col for col in X_train.columns if X_train[col].dtype == 'object']\n",
    "# X_validの要素がX_trainの要素に含まれるものを抽出(issubset または <= で判別)\n",
    "good_label_cols = [col for col in object_cols\n",
    "                   if set(X_valid[col]).issubset(set(X_train[col]))]\n",
    "# X_validの要素でX_trainにないものを抽出\n",
    "bad_label_cols = list(set(object_cols) - set(good_label_cols))\n",
    "# それぞれの中身を表示\n",
    "print('Categorical columns that will be ordinal encoded:', good_label_cols)\n",
    "print('\\nCategorical columns that will be dropped from the dataset:', bad_label_cols)"
   ],
   "metadata": {
    "collapsed": false
   }
  },
  {
   "cell_type": "markdown",
   "source": [
    "## Part B"
   ],
   "metadata": {
    "collapsed": false
   }
  },
  {
   "cell_type": "code",
   "execution_count": 43,
   "outputs": [
    {
     "name": "stdout",
     "output_type": "stream",
     "text": [
      "MAE from Approach 2 (Ordinal Encoding):\n",
      "17098.01649543379\n"
     ]
    }
   ],
   "source": [
    "# Ordinal encoderをインポート\n",
    "from sklearn.preprocessing import OrdinalEncoder\n",
    "# bad_labelになったものを落とす\n",
    "label_X_train = X_train.drop(bad_label_cols, axis=1)\n",
    "label_X_valid = X_valid.drop(bad_label_cols, axis=1)\n",
    "# ordinal encoderを定義\n",
    "ordinal_encoder = OrdinalEncoder()\n",
    "# ordinal encoderで\n",
    "label_X_train[good_label_cols] = ordinal_encoder.fit_transform(X_train[good_label_cols])\n",
    "label_X_valid[good_label_cols] = ordinal_encoder.transform(X_valid[good_label_cols])\n",
    "\n",
    "print(\"MAE from Approach 2 (Ordinal Encoding):\")\n",
    "print(score_dataset(label_X_train, label_X_valid, y_train, y_valid))"
   ],
   "metadata": {
    "collapsed": false
   }
  },
  {
   "cell_type": "markdown",
   "source": [
    "これまで、あなたはカテゴリ変数を扱うために2つの異なるアプローチを試してきました。そして、カテゴリデータをエンコードすることで、データセットから列を削除するよりも良い結果が得られることがわかりました。\n",
    "\n",
    "近々、ワンホットエンコーディングを試してみることにしましょう。その前に、もう一つ説明しなければならないことがあります。次のコードセルを変更せずに実行することから始めてください。"
   ],
   "metadata": {
    "collapsed": false
   }
  }
 ],
 "metadata": {
  "kernelspec": {
   "display_name": "Python 3",
   "language": "python",
   "name": "python3"
  },
  "language_info": {
   "codemirror_mode": {
    "name": "ipython",
    "version": 2
   },
   "file_extension": ".py",
   "mimetype": "text/x-python",
   "name": "python",
   "nbconvert_exporter": "python",
   "pygments_lexer": "ipython2",
   "version": "2.7.6"
  }
 },
 "nbformat": 4,
 "nbformat_minor": 0
}
