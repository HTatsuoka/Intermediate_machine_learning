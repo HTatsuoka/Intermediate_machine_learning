{
 "cells": [
  {
   "cell_type": "code",
   "execution_count": 1,
   "outputs": [],
   "source": [
    "import pandas as pd\n",
    "from sklearn.model_selection import train_test_split\n",
    "# 訓練データとテストデータの読み込み\n",
    "X_full = pd.read_csv('train.csv', index_col='Id')\n",
    "X_test_full = pd.read_csv('test.csv', index_col='Id')\n",
    "\n",
    "# 目的変数(SalePriceの抜けている行を落とす)\n",
    "X_full.dropna(axis=0, subset=['SalePrice'], inplace=True)\n",
    "y = X_full.SalePrice\n",
    "X_full.drop(['SalePrice'], axis=1, inplace=True)\n",
    "\n",
    "# 数字以外のものが入力値になっている列を落とす\n",
    "X = X_full.select_dtypes(exclude=['object'])\n",
    "X_test = X_test_full.select_dtypes(exclude=['object'])\n",
    "\n",
    "# trainingデータとvalidationデータを分ける\n",
    "X_train, X_valid, y_train, y_valid = train_test_split(X, y, train_size=0.8, test_size=0.2, random_state=0)"
   ],
   "metadata": {
    "collapsed": false
   }
  },
  {
   "cell_type": "code",
   "execution_count": 2,
   "outputs": [
    {
     "data": {
      "text/plain": "     MSSubClass  LotFrontage  LotArea  OverallQual  OverallCond  YearBuilt  \\\nId                                                                           \n619          20         90.0    11694            9            5       2007   \n871          20         60.0     6600            5            5       1962   \n93           30         80.0    13360            5            7       1921   \n818          20          NaN    13265            8            5       2002   \n303          20        118.0    13704            7            5       2001   \n\n     YearRemodAdd  MasVnrArea  BsmtFinSF1  BsmtFinSF2  ...  GarageArea  \\\nId                                                     ...               \n619          2007       452.0          48           0  ...         774   \n871          1962         0.0           0           0  ...         308   \n93           2006         0.0         713           0  ...         432   \n818          2002       148.0        1218           0  ...         857   \n303          2002       150.0           0           0  ...         843   \n\n     WoodDeckSF  OpenPorchSF  EnclosedPorch  3SsnPorch  ScreenPorch  PoolArea  \\\nId                                                                              \n619           0          108              0          0          260         0   \n871           0            0              0          0            0         0   \n93            0            0             44          0            0         0   \n818         150           59              0          0            0         0   \n303         468           81              0          0            0         0   \n\n     MiscVal  MoSold  YrSold  \nId                            \n619        0       7    2007  \n871        0       8    2009  \n93         0       8    2009  \n818        0       7    2008  \n303        0       1    2006  \n\n[5 rows x 36 columns]",
      "text/html": "<div>\n<style scoped>\n    .dataframe tbody tr th:only-of-type {\n        vertical-align: middle;\n    }\n\n    .dataframe tbody tr th {\n        vertical-align: top;\n    }\n\n    .dataframe thead th {\n        text-align: right;\n    }\n</style>\n<table border=\"1\" class=\"dataframe\">\n  <thead>\n    <tr style=\"text-align: right;\">\n      <th></th>\n      <th>MSSubClass</th>\n      <th>LotFrontage</th>\n      <th>LotArea</th>\n      <th>OverallQual</th>\n      <th>OverallCond</th>\n      <th>YearBuilt</th>\n      <th>YearRemodAdd</th>\n      <th>MasVnrArea</th>\n      <th>BsmtFinSF1</th>\n      <th>BsmtFinSF2</th>\n      <th>...</th>\n      <th>GarageArea</th>\n      <th>WoodDeckSF</th>\n      <th>OpenPorchSF</th>\n      <th>EnclosedPorch</th>\n      <th>3SsnPorch</th>\n      <th>ScreenPorch</th>\n      <th>PoolArea</th>\n      <th>MiscVal</th>\n      <th>MoSold</th>\n      <th>YrSold</th>\n    </tr>\n    <tr>\n      <th>Id</th>\n      <th></th>\n      <th></th>\n      <th></th>\n      <th></th>\n      <th></th>\n      <th></th>\n      <th></th>\n      <th></th>\n      <th></th>\n      <th></th>\n      <th></th>\n      <th></th>\n      <th></th>\n      <th></th>\n      <th></th>\n      <th></th>\n      <th></th>\n      <th></th>\n      <th></th>\n      <th></th>\n      <th></th>\n    </tr>\n  </thead>\n  <tbody>\n    <tr>\n      <th>619</th>\n      <td>20</td>\n      <td>90.0</td>\n      <td>11694</td>\n      <td>9</td>\n      <td>5</td>\n      <td>2007</td>\n      <td>2007</td>\n      <td>452.0</td>\n      <td>48</td>\n      <td>0</td>\n      <td>...</td>\n      <td>774</td>\n      <td>0</td>\n      <td>108</td>\n      <td>0</td>\n      <td>0</td>\n      <td>260</td>\n      <td>0</td>\n      <td>0</td>\n      <td>7</td>\n      <td>2007</td>\n    </tr>\n    <tr>\n      <th>871</th>\n      <td>20</td>\n      <td>60.0</td>\n      <td>6600</td>\n      <td>5</td>\n      <td>5</td>\n      <td>1962</td>\n      <td>1962</td>\n      <td>0.0</td>\n      <td>0</td>\n      <td>0</td>\n      <td>...</td>\n      <td>308</td>\n      <td>0</td>\n      <td>0</td>\n      <td>0</td>\n      <td>0</td>\n      <td>0</td>\n      <td>0</td>\n      <td>0</td>\n      <td>8</td>\n      <td>2009</td>\n    </tr>\n    <tr>\n      <th>93</th>\n      <td>30</td>\n      <td>80.0</td>\n      <td>13360</td>\n      <td>5</td>\n      <td>7</td>\n      <td>1921</td>\n      <td>2006</td>\n      <td>0.0</td>\n      <td>713</td>\n      <td>0</td>\n      <td>...</td>\n      <td>432</td>\n      <td>0</td>\n      <td>0</td>\n      <td>44</td>\n      <td>0</td>\n      <td>0</td>\n      <td>0</td>\n      <td>0</td>\n      <td>8</td>\n      <td>2009</td>\n    </tr>\n    <tr>\n      <th>818</th>\n      <td>20</td>\n      <td>NaN</td>\n      <td>13265</td>\n      <td>8</td>\n      <td>5</td>\n      <td>2002</td>\n      <td>2002</td>\n      <td>148.0</td>\n      <td>1218</td>\n      <td>0</td>\n      <td>...</td>\n      <td>857</td>\n      <td>150</td>\n      <td>59</td>\n      <td>0</td>\n      <td>0</td>\n      <td>0</td>\n      <td>0</td>\n      <td>0</td>\n      <td>7</td>\n      <td>2008</td>\n    </tr>\n    <tr>\n      <th>303</th>\n      <td>20</td>\n      <td>118.0</td>\n      <td>13704</td>\n      <td>7</td>\n      <td>5</td>\n      <td>2001</td>\n      <td>2002</td>\n      <td>150.0</td>\n      <td>0</td>\n      <td>0</td>\n      <td>...</td>\n      <td>843</td>\n      <td>468</td>\n      <td>81</td>\n      <td>0</td>\n      <td>0</td>\n      <td>0</td>\n      <td>0</td>\n      <td>0</td>\n      <td>1</td>\n      <td>2006</td>\n    </tr>\n  </tbody>\n</table>\n<p>5 rows × 36 columns</p>\n</div>"
     },
     "execution_count": 2,
     "metadata": {},
     "output_type": "execute_result"
    }
   ],
   "source": [
    "X_train.head()"
   ],
   "metadata": {
    "collapsed": false
   }
  },
  {
   "cell_type": "markdown",
   "source": [
    "# Step 1: Preliminary investigation"
   ],
   "metadata": {
    "collapsed": false
   }
  },
  {
   "cell_type": "code",
   "execution_count": 3,
   "outputs": [
    {
     "name": "stdout",
     "output_type": "stream",
     "text": [
      "(1168, 36)\n",
      "LotFrontage    212\n",
      "MasVnrArea       6\n",
      "GarageYrBlt     58\n",
      "dtype: int64\n"
     ]
    }
   ],
   "source": [
    "# 訓練データのサイズを表示 (行数、列数)\n",
    "print(X_train.shape)\n",
    "# 訓練用データの列ごとに欠損値の数を計算\n",
    "missing_val_count_by_column = (X_train.isnull().sum())\n",
    "# 欠損値のある列を表示\n",
    "print(missing_val_count_by_column[missing_val_count_by_column > 0])"
   ],
   "metadata": {
    "collapsed": false
   }
  },
  {
   "cell_type": "code",
   "execution_count": 4,
   "outputs": [],
   "source": [
    "# ランダムフォレストとMAE呼び出し\n",
    "from sklearn.ensemble import RandomForestRegressor\n",
    "from sklearn.metrics import mean_absolute_error\n",
    "# 訓練用データと学習用データを与えてMAEを返す関数\n",
    "def score_dataset(X_train, X_valid, y_train, y_valid):\n",
    "    model = RandomForestRegressor(n_estimators=100, random_state=0)\n",
    "    model.fit(X_train, y_train)\n",
    "    preds = model.predict(X_valid)\n",
    "    return mean_absolute_error(y_valid, preds)"
   ],
   "metadata": {
    "collapsed": false
   }
  },
  {
   "cell_type": "markdown",
   "source": [
    "# Step 2: Drop columns with missing values"
   ],
   "metadata": {
    "collapsed": false
   }
  },
  {
   "cell_type": "code",
   "execution_count": 14,
   "outputs": [
    {
     "name": "stdout",
     "output_type": "stream",
     "text": [
      "MAE from Approach 1 (Drop columns with missing values):\n",
      "17837.82570776256\n"
     ]
    }
   ],
   "source": [
    "# Fill in the line below: get names of columns with missing values\n",
    "cols_with_missing = [col for col in X_train.columns\n",
    "                     if X_train[col].isnull().any()]\n",
    "\n",
    "# Fill in the lines below: drop columns in training and validation data\n",
    "reduced_X_train = X_train.drop(cols_with_missing, axis=1)\n",
    "reduced_X_valid = X_valid.drop(cols_with_missing, axis=1)\n",
    "\n",
    "print(\"MAE from Approach 1 (Drop columns with missing values):\")\n",
    "print(score_dataset(reduced_X_train, reduced_X_valid, y_train, y_valid))"
   ],
   "metadata": {
    "collapsed": false
   }
  },
  {
   "cell_type": "markdown",
   "source": [
    "# Step 3:Imputation\n",
    "## Part A"
   ],
   "metadata": {
    "collapsed": false
   }
  },
  {
   "cell_type": "code",
   "execution_count": 23,
   "outputs": [
    {
     "name": "stdout",
     "output_type": "stream",
     "text": [
      "MAE from Approach 2 (Imputation):\n",
      "18062.894611872147\n"
     ]
    }
   ],
   "source": [
    "# SimpleImputerライブラリのインポート\n",
    "from sklearn.impute import SimpleImputer\n",
    "# 代入する(ここで何も入力しないと平均値計算になる)\n",
    "my_imputer = SimpleImputer()\n",
    "# fit_transformメソッドで代入\n",
    "# pd.Dataframeでデータフレームにしないといけない(デフォルトではarrayになってしまう)\n",
    "imputed_X_train = pd.DataFrame(my_imputer.fit_transform(X_train))\n",
    "imputed_X_valid = pd.DataFrame(my_imputer.transform(X_valid))\n",
    "# 列名が落ちるので再入力\n",
    "imputed_X_train.columns = X_train.columns\n",
    "imputed_X_valid.columns = X_valid.columns\n",
    "# MAEを表示\n",
    "print(\"MAE from Approach 2 (Imputation):\")\n",
    "print(score_dataset(imputed_X_train, imputed_X_valid, y_train, y_valid))"
   ],
   "metadata": {
    "collapsed": false
   }
  },
  {
   "cell_type": "markdown",
   "source": [
    "データセットに含まれる欠損値が非常に少ないことから、インピュテーションは列を完全に削除するよりも良いパフォーマンスを示すと予想されます。しかし、我々は、列を削除する方がわずかにパフォーマンスが良いことを確認しました。これは、部分的にはデータセットのノイズに起因すると考えられますが、もう1つの可能性としては、インピュテーションの方法がこのデータセットにあまりマッチしていないことが挙げられます。つまり、平均値を埋める代わりに、すべての欠損値を0に設定する、最も頻繁に遭遇する値を埋める、または他の方法を使用する方がより理にかなっているのかもしれないのです。例えば、GarageYrBlt（車庫の建設年を示す）の列を考えてみましょう。この値が欠けていると、ガレージのない家である可能性があります。この場合、各列の中央値を記入するのがより理にかなっているのでしょうか。それとも、各列の最小値を記入した方が良い結果が得られるのでしょうか？例えば、この列の欠損値を0に設定すると、ひどい結果になる可能性があります。"
   ],
   "metadata": {
    "collapsed": false
   }
  },
  {
   "cell_type": "markdown",
   "source": [
    "# Step 4: Generate test predictions\n",
    "ここからはオリジナルコード"
   ],
   "metadata": {
    "collapsed": false
   }
  },
  {
   "cell_type": "code",
   "execution_count": 30,
   "outputs": [
    {
     "data": {
      "text/plain": "      MSSubClass  LotFrontage  LotArea  OverallQual  OverallCond  YearBuilt  \\\nId                                                                            \n619           20         90.0    11694            9            5       2007   \n871           20         60.0     6600            5            5       1962   \n93            30         80.0    13360            5            7       1921   \n818           20          NaN    13265            8            5       2002   \n303           20        118.0    13704            7            5       2001   \n...          ...          ...      ...          ...          ...        ...   \n764           60         82.0     9430            8            5       1999   \n836           20         60.0     9600            4            7       1950   \n1217          90         68.0     8930            6            5       1978   \n560          120          NaN     3196            7            5       2003   \n685           60         58.0    16770            7            5       1998   \n\n      YearRemodAdd  MasVnrArea  BsmtFinSF1  BsmtFinSF2  ...  GarageArea  \\\nId                                                      ...               \n619           2007       452.0          48           0  ...         774   \n871           1962         0.0           0           0  ...         308   \n93            2006         0.0         713           0  ...         432   \n818           2002       148.0        1218           0  ...         857   \n303           2002       150.0           0           0  ...         843   \n...            ...         ...         ...         ...  ...         ...   \n764           1999       673.0        1163           0  ...         856   \n836           1995         0.0         442           0  ...         436   \n1217          1978         0.0           0           0  ...         539   \n560           2004        18.0           0           0  ...         420   \n685           1998        30.0           0           0  ...         486   \n\n      WoodDeckSF  OpenPorchSF  EnclosedPorch  3SsnPorch  ScreenPorch  \\\nId                                                                     \n619            0          108              0          0          260   \n871            0            0              0          0            0   \n93             0            0             44          0            0   \n818          150           59              0          0            0   \n303          468           81              0          0            0   \n...          ...          ...            ...        ...          ...   \n764            0          128              0          0          180   \n836          290            0              0          0            0   \n1217           0            0              0          0            0   \n560          143           20              0          0            0   \n685            0           81              0          0            0   \n\n      PoolArea  MiscVal  MoSold  YrSold  \nId                                       \n619          0        0       7    2007  \n871          0        0       8    2009  \n93           0        0       8    2009  \n818          0        0       7    2008  \n303          0        0       1    2006  \n...        ...      ...     ...     ...  \n764          0        0       7    2009  \n836          0        0       2    2010  \n1217         0        0       4    2010  \n560          0        0      10    2006  \n685          0        0       6    2010  \n\n[1168 rows x 36 columns]",
      "text/html": "<div>\n<style scoped>\n    .dataframe tbody tr th:only-of-type {\n        vertical-align: middle;\n    }\n\n    .dataframe tbody tr th {\n        vertical-align: top;\n    }\n\n    .dataframe thead th {\n        text-align: right;\n    }\n</style>\n<table border=\"1\" class=\"dataframe\">\n  <thead>\n    <tr style=\"text-align: right;\">\n      <th></th>\n      <th>MSSubClass</th>\n      <th>LotFrontage</th>\n      <th>LotArea</th>\n      <th>OverallQual</th>\n      <th>OverallCond</th>\n      <th>YearBuilt</th>\n      <th>YearRemodAdd</th>\n      <th>MasVnrArea</th>\n      <th>BsmtFinSF1</th>\n      <th>BsmtFinSF2</th>\n      <th>...</th>\n      <th>GarageArea</th>\n      <th>WoodDeckSF</th>\n      <th>OpenPorchSF</th>\n      <th>EnclosedPorch</th>\n      <th>3SsnPorch</th>\n      <th>ScreenPorch</th>\n      <th>PoolArea</th>\n      <th>MiscVal</th>\n      <th>MoSold</th>\n      <th>YrSold</th>\n    </tr>\n    <tr>\n      <th>Id</th>\n      <th></th>\n      <th></th>\n      <th></th>\n      <th></th>\n      <th></th>\n      <th></th>\n      <th></th>\n      <th></th>\n      <th></th>\n      <th></th>\n      <th></th>\n      <th></th>\n      <th></th>\n      <th></th>\n      <th></th>\n      <th></th>\n      <th></th>\n      <th></th>\n      <th></th>\n      <th></th>\n      <th></th>\n    </tr>\n  </thead>\n  <tbody>\n    <tr>\n      <th>619</th>\n      <td>20</td>\n      <td>90.0</td>\n      <td>11694</td>\n      <td>9</td>\n      <td>5</td>\n      <td>2007</td>\n      <td>2007</td>\n      <td>452.0</td>\n      <td>48</td>\n      <td>0</td>\n      <td>...</td>\n      <td>774</td>\n      <td>0</td>\n      <td>108</td>\n      <td>0</td>\n      <td>0</td>\n      <td>260</td>\n      <td>0</td>\n      <td>0</td>\n      <td>7</td>\n      <td>2007</td>\n    </tr>\n    <tr>\n      <th>871</th>\n      <td>20</td>\n      <td>60.0</td>\n      <td>6600</td>\n      <td>5</td>\n      <td>5</td>\n      <td>1962</td>\n      <td>1962</td>\n      <td>0.0</td>\n      <td>0</td>\n      <td>0</td>\n      <td>...</td>\n      <td>308</td>\n      <td>0</td>\n      <td>0</td>\n      <td>0</td>\n      <td>0</td>\n      <td>0</td>\n      <td>0</td>\n      <td>0</td>\n      <td>8</td>\n      <td>2009</td>\n    </tr>\n    <tr>\n      <th>93</th>\n      <td>30</td>\n      <td>80.0</td>\n      <td>13360</td>\n      <td>5</td>\n      <td>7</td>\n      <td>1921</td>\n      <td>2006</td>\n      <td>0.0</td>\n      <td>713</td>\n      <td>0</td>\n      <td>...</td>\n      <td>432</td>\n      <td>0</td>\n      <td>0</td>\n      <td>44</td>\n      <td>0</td>\n      <td>0</td>\n      <td>0</td>\n      <td>0</td>\n      <td>8</td>\n      <td>2009</td>\n    </tr>\n    <tr>\n      <th>818</th>\n      <td>20</td>\n      <td>NaN</td>\n      <td>13265</td>\n      <td>8</td>\n      <td>5</td>\n      <td>2002</td>\n      <td>2002</td>\n      <td>148.0</td>\n      <td>1218</td>\n      <td>0</td>\n      <td>...</td>\n      <td>857</td>\n      <td>150</td>\n      <td>59</td>\n      <td>0</td>\n      <td>0</td>\n      <td>0</td>\n      <td>0</td>\n      <td>0</td>\n      <td>7</td>\n      <td>2008</td>\n    </tr>\n    <tr>\n      <th>303</th>\n      <td>20</td>\n      <td>118.0</td>\n      <td>13704</td>\n      <td>7</td>\n      <td>5</td>\n      <td>2001</td>\n      <td>2002</td>\n      <td>150.0</td>\n      <td>0</td>\n      <td>0</td>\n      <td>...</td>\n      <td>843</td>\n      <td>468</td>\n      <td>81</td>\n      <td>0</td>\n      <td>0</td>\n      <td>0</td>\n      <td>0</td>\n      <td>0</td>\n      <td>1</td>\n      <td>2006</td>\n    </tr>\n    <tr>\n      <th>...</th>\n      <td>...</td>\n      <td>...</td>\n      <td>...</td>\n      <td>...</td>\n      <td>...</td>\n      <td>...</td>\n      <td>...</td>\n      <td>...</td>\n      <td>...</td>\n      <td>...</td>\n      <td>...</td>\n      <td>...</td>\n      <td>...</td>\n      <td>...</td>\n      <td>...</td>\n      <td>...</td>\n      <td>...</td>\n      <td>...</td>\n      <td>...</td>\n      <td>...</td>\n      <td>...</td>\n    </tr>\n    <tr>\n      <th>764</th>\n      <td>60</td>\n      <td>82.0</td>\n      <td>9430</td>\n      <td>8</td>\n      <td>5</td>\n      <td>1999</td>\n      <td>1999</td>\n      <td>673.0</td>\n      <td>1163</td>\n      <td>0</td>\n      <td>...</td>\n      <td>856</td>\n      <td>0</td>\n      <td>128</td>\n      <td>0</td>\n      <td>0</td>\n      <td>180</td>\n      <td>0</td>\n      <td>0</td>\n      <td>7</td>\n      <td>2009</td>\n    </tr>\n    <tr>\n      <th>836</th>\n      <td>20</td>\n      <td>60.0</td>\n      <td>9600</td>\n      <td>4</td>\n      <td>7</td>\n      <td>1950</td>\n      <td>1995</td>\n      <td>0.0</td>\n      <td>442</td>\n      <td>0</td>\n      <td>...</td>\n      <td>436</td>\n      <td>290</td>\n      <td>0</td>\n      <td>0</td>\n      <td>0</td>\n      <td>0</td>\n      <td>0</td>\n      <td>0</td>\n      <td>2</td>\n      <td>2010</td>\n    </tr>\n    <tr>\n      <th>1217</th>\n      <td>90</td>\n      <td>68.0</td>\n      <td>8930</td>\n      <td>6</td>\n      <td>5</td>\n      <td>1978</td>\n      <td>1978</td>\n      <td>0.0</td>\n      <td>0</td>\n      <td>0</td>\n      <td>...</td>\n      <td>539</td>\n      <td>0</td>\n      <td>0</td>\n      <td>0</td>\n      <td>0</td>\n      <td>0</td>\n      <td>0</td>\n      <td>0</td>\n      <td>4</td>\n      <td>2010</td>\n    </tr>\n    <tr>\n      <th>560</th>\n      <td>120</td>\n      <td>NaN</td>\n      <td>3196</td>\n      <td>7</td>\n      <td>5</td>\n      <td>2003</td>\n      <td>2004</td>\n      <td>18.0</td>\n      <td>0</td>\n      <td>0</td>\n      <td>...</td>\n      <td>420</td>\n      <td>143</td>\n      <td>20</td>\n      <td>0</td>\n      <td>0</td>\n      <td>0</td>\n      <td>0</td>\n      <td>0</td>\n      <td>10</td>\n      <td>2006</td>\n    </tr>\n    <tr>\n      <th>685</th>\n      <td>60</td>\n      <td>58.0</td>\n      <td>16770</td>\n      <td>7</td>\n      <td>5</td>\n      <td>1998</td>\n      <td>1998</td>\n      <td>30.0</td>\n      <td>0</td>\n      <td>0</td>\n      <td>...</td>\n      <td>486</td>\n      <td>0</td>\n      <td>81</td>\n      <td>0</td>\n      <td>0</td>\n      <td>0</td>\n      <td>0</td>\n      <td>0</td>\n      <td>6</td>\n      <td>2010</td>\n    </tr>\n  </tbody>\n</table>\n<p>1168 rows × 36 columns</p>\n</div>"
     },
     "execution_count": 30,
     "metadata": {},
     "output_type": "execute_result"
    }
   ],
   "source": [
    "# 訓練データの概要\n",
    "X_train"
   ],
   "metadata": {
    "collapsed": false
   }
  },
  {
   "cell_type": "code",
   "execution_count": 32,
   "outputs": [
    {
     "data": {
      "text/plain": "      MSSubClass  LotFrontage  LotArea  OverallQual  OverallCond  YearBuilt  \\\nId                                                                            \n619        False        False    False        False        False      False   \n871        False        False    False        False        False      False   \n93         False        False    False        False        False      False   \n818        False         True    False        False        False      False   \n303        False        False    False        False        False      False   \n...          ...          ...      ...          ...          ...        ...   \n764        False        False    False        False        False      False   \n836        False        False    False        False        False      False   \n1217       False        False    False        False        False      False   \n560        False         True    False        False        False      False   \n685        False        False    False        False        False      False   \n\n      YearRemodAdd  MasVnrArea  BsmtFinSF1  BsmtFinSF2  ...  GarageArea  \\\nId                                                      ...               \n619          False       False       False       False  ...       False   \n871          False       False       False       False  ...       False   \n93           False       False       False       False  ...       False   \n818          False       False       False       False  ...       False   \n303          False       False       False       False  ...       False   \n...            ...         ...         ...         ...  ...         ...   \n764          False       False       False       False  ...       False   \n836          False       False       False       False  ...       False   \n1217         False       False       False       False  ...       False   \n560          False       False       False       False  ...       False   \n685          False       False       False       False  ...       False   \n\n      WoodDeckSF  OpenPorchSF  EnclosedPorch  3SsnPorch  ScreenPorch  \\\nId                                                                     \n619        False        False          False      False        False   \n871        False        False          False      False        False   \n93         False        False          False      False        False   \n818        False        False          False      False        False   \n303        False        False          False      False        False   \n...          ...          ...            ...        ...          ...   \n764        False        False          False      False        False   \n836        False        False          False      False        False   \n1217       False        False          False      False        False   \n560        False        False          False      False        False   \n685        False        False          False      False        False   \n\n      PoolArea  MiscVal  MoSold  YrSold  \nId                                       \n619      False    False   False   False  \n871      False    False   False   False  \n93       False    False   False   False  \n818      False    False   False   False  \n303      False    False   False   False  \n...        ...      ...     ...     ...  \n764      False    False   False   False  \n836      False    False   False   False  \n1217     False    False   False   False  \n560      False    False   False   False  \n685      False    False   False   False  \n\n[1168 rows x 36 columns]",
      "text/html": "<div>\n<style scoped>\n    .dataframe tbody tr th:only-of-type {\n        vertical-align: middle;\n    }\n\n    .dataframe tbody tr th {\n        vertical-align: top;\n    }\n\n    .dataframe thead th {\n        text-align: right;\n    }\n</style>\n<table border=\"1\" class=\"dataframe\">\n  <thead>\n    <tr style=\"text-align: right;\">\n      <th></th>\n      <th>MSSubClass</th>\n      <th>LotFrontage</th>\n      <th>LotArea</th>\n      <th>OverallQual</th>\n      <th>OverallCond</th>\n      <th>YearBuilt</th>\n      <th>YearRemodAdd</th>\n      <th>MasVnrArea</th>\n      <th>BsmtFinSF1</th>\n      <th>BsmtFinSF2</th>\n      <th>...</th>\n      <th>GarageArea</th>\n      <th>WoodDeckSF</th>\n      <th>OpenPorchSF</th>\n      <th>EnclosedPorch</th>\n      <th>3SsnPorch</th>\n      <th>ScreenPorch</th>\n      <th>PoolArea</th>\n      <th>MiscVal</th>\n      <th>MoSold</th>\n      <th>YrSold</th>\n    </tr>\n    <tr>\n      <th>Id</th>\n      <th></th>\n      <th></th>\n      <th></th>\n      <th></th>\n      <th></th>\n      <th></th>\n      <th></th>\n      <th></th>\n      <th></th>\n      <th></th>\n      <th></th>\n      <th></th>\n      <th></th>\n      <th></th>\n      <th></th>\n      <th></th>\n      <th></th>\n      <th></th>\n      <th></th>\n      <th></th>\n      <th></th>\n    </tr>\n  </thead>\n  <tbody>\n    <tr>\n      <th>619</th>\n      <td>False</td>\n      <td>False</td>\n      <td>False</td>\n      <td>False</td>\n      <td>False</td>\n      <td>False</td>\n      <td>False</td>\n      <td>False</td>\n      <td>False</td>\n      <td>False</td>\n      <td>...</td>\n      <td>False</td>\n      <td>False</td>\n      <td>False</td>\n      <td>False</td>\n      <td>False</td>\n      <td>False</td>\n      <td>False</td>\n      <td>False</td>\n      <td>False</td>\n      <td>False</td>\n    </tr>\n    <tr>\n      <th>871</th>\n      <td>False</td>\n      <td>False</td>\n      <td>False</td>\n      <td>False</td>\n      <td>False</td>\n      <td>False</td>\n      <td>False</td>\n      <td>False</td>\n      <td>False</td>\n      <td>False</td>\n      <td>...</td>\n      <td>False</td>\n      <td>False</td>\n      <td>False</td>\n      <td>False</td>\n      <td>False</td>\n      <td>False</td>\n      <td>False</td>\n      <td>False</td>\n      <td>False</td>\n      <td>False</td>\n    </tr>\n    <tr>\n      <th>93</th>\n      <td>False</td>\n      <td>False</td>\n      <td>False</td>\n      <td>False</td>\n      <td>False</td>\n      <td>False</td>\n      <td>False</td>\n      <td>False</td>\n      <td>False</td>\n      <td>False</td>\n      <td>...</td>\n      <td>False</td>\n      <td>False</td>\n      <td>False</td>\n      <td>False</td>\n      <td>False</td>\n      <td>False</td>\n      <td>False</td>\n      <td>False</td>\n      <td>False</td>\n      <td>False</td>\n    </tr>\n    <tr>\n      <th>818</th>\n      <td>False</td>\n      <td>True</td>\n      <td>False</td>\n      <td>False</td>\n      <td>False</td>\n      <td>False</td>\n      <td>False</td>\n      <td>False</td>\n      <td>False</td>\n      <td>False</td>\n      <td>...</td>\n      <td>False</td>\n      <td>False</td>\n      <td>False</td>\n      <td>False</td>\n      <td>False</td>\n      <td>False</td>\n      <td>False</td>\n      <td>False</td>\n      <td>False</td>\n      <td>False</td>\n    </tr>\n    <tr>\n      <th>303</th>\n      <td>False</td>\n      <td>False</td>\n      <td>False</td>\n      <td>False</td>\n      <td>False</td>\n      <td>False</td>\n      <td>False</td>\n      <td>False</td>\n      <td>False</td>\n      <td>False</td>\n      <td>...</td>\n      <td>False</td>\n      <td>False</td>\n      <td>False</td>\n      <td>False</td>\n      <td>False</td>\n      <td>False</td>\n      <td>False</td>\n      <td>False</td>\n      <td>False</td>\n      <td>False</td>\n    </tr>\n    <tr>\n      <th>...</th>\n      <td>...</td>\n      <td>...</td>\n      <td>...</td>\n      <td>...</td>\n      <td>...</td>\n      <td>...</td>\n      <td>...</td>\n      <td>...</td>\n      <td>...</td>\n      <td>...</td>\n      <td>...</td>\n      <td>...</td>\n      <td>...</td>\n      <td>...</td>\n      <td>...</td>\n      <td>...</td>\n      <td>...</td>\n      <td>...</td>\n      <td>...</td>\n      <td>...</td>\n      <td>...</td>\n    </tr>\n    <tr>\n      <th>764</th>\n      <td>False</td>\n      <td>False</td>\n      <td>False</td>\n      <td>False</td>\n      <td>False</td>\n      <td>False</td>\n      <td>False</td>\n      <td>False</td>\n      <td>False</td>\n      <td>False</td>\n      <td>...</td>\n      <td>False</td>\n      <td>False</td>\n      <td>False</td>\n      <td>False</td>\n      <td>False</td>\n      <td>False</td>\n      <td>False</td>\n      <td>False</td>\n      <td>False</td>\n      <td>False</td>\n    </tr>\n    <tr>\n      <th>836</th>\n      <td>False</td>\n      <td>False</td>\n      <td>False</td>\n      <td>False</td>\n      <td>False</td>\n      <td>False</td>\n      <td>False</td>\n      <td>False</td>\n      <td>False</td>\n      <td>False</td>\n      <td>...</td>\n      <td>False</td>\n      <td>False</td>\n      <td>False</td>\n      <td>False</td>\n      <td>False</td>\n      <td>False</td>\n      <td>False</td>\n      <td>False</td>\n      <td>False</td>\n      <td>False</td>\n    </tr>\n    <tr>\n      <th>1217</th>\n      <td>False</td>\n      <td>False</td>\n      <td>False</td>\n      <td>False</td>\n      <td>False</td>\n      <td>False</td>\n      <td>False</td>\n      <td>False</td>\n      <td>False</td>\n      <td>False</td>\n      <td>...</td>\n      <td>False</td>\n      <td>False</td>\n      <td>False</td>\n      <td>False</td>\n      <td>False</td>\n      <td>False</td>\n      <td>False</td>\n      <td>False</td>\n      <td>False</td>\n      <td>False</td>\n    </tr>\n    <tr>\n      <th>560</th>\n      <td>False</td>\n      <td>True</td>\n      <td>False</td>\n      <td>False</td>\n      <td>False</td>\n      <td>False</td>\n      <td>False</td>\n      <td>False</td>\n      <td>False</td>\n      <td>False</td>\n      <td>...</td>\n      <td>False</td>\n      <td>False</td>\n      <td>False</td>\n      <td>False</td>\n      <td>False</td>\n      <td>False</td>\n      <td>False</td>\n      <td>False</td>\n      <td>False</td>\n      <td>False</td>\n    </tr>\n    <tr>\n      <th>685</th>\n      <td>False</td>\n      <td>False</td>\n      <td>False</td>\n      <td>False</td>\n      <td>False</td>\n      <td>False</td>\n      <td>False</td>\n      <td>False</td>\n      <td>False</td>\n      <td>False</td>\n      <td>...</td>\n      <td>False</td>\n      <td>False</td>\n      <td>False</td>\n      <td>False</td>\n      <td>False</td>\n      <td>False</td>\n      <td>False</td>\n      <td>False</td>\n      <td>False</td>\n      <td>False</td>\n    </tr>\n  </tbody>\n</table>\n<p>1168 rows × 36 columns</p>\n</div>"
     },
     "execution_count": 32,
     "metadata": {},
     "output_type": "execute_result"
    }
   ],
   "source": [
    "# 各要素がnaかどうかの理論値\n",
    "X_train.isna()"
   ],
   "metadata": {
    "collapsed": false
   }
  },
  {
   "cell_type": "code",
   "execution_count": 37,
   "outputs": [
    {
     "name": "stdout",
     "output_type": "stream",
     "text": [
      "MSSubClass       False\n",
      "LotFrontage       True\n",
      "LotArea          False\n",
      "OverallQual      False\n",
      "OverallCond      False\n",
      "YearBuilt        False\n",
      "YearRemodAdd     False\n",
      "MasVnrArea        True\n",
      "BsmtFinSF1       False\n",
      "BsmtFinSF2       False\n",
      "BsmtUnfSF        False\n",
      "TotalBsmtSF      False\n",
      "1stFlrSF         False\n",
      "2ndFlrSF         False\n",
      "LowQualFinSF     False\n",
      "GrLivArea        False\n",
      "BsmtFullBath     False\n",
      "BsmtHalfBath     False\n",
      "FullBath         False\n",
      "HalfBath         False\n",
      "BedroomAbvGr     False\n",
      "KitchenAbvGr     False\n",
      "TotRmsAbvGrd     False\n",
      "Fireplaces       False\n",
      "GarageYrBlt       True\n",
      "GarageCars       False\n",
      "GarageArea       False\n",
      "WoodDeckSF       False\n",
      "OpenPorchSF      False\n",
      "EnclosedPorch    False\n",
      "3SsnPorch        False\n",
      "ScreenPorch      False\n",
      "PoolArea         False\n",
      "MiscVal          False\n",
      "MoSold           False\n",
      "YrSold           False\n",
      "dtype: bool\n",
      "Id\n",
      "619     False\n",
      "871     False\n",
      "93      False\n",
      "818      True\n",
      "303     False\n",
      "        ...  \n",
      "764     False\n",
      "836     False\n",
      "1217    False\n",
      "560      True\n",
      "685     False\n",
      "Length: 1168, dtype: bool\n"
     ]
    }
   ],
   "source": [
    "# 各要素がnaかどうかの理論値\n",
    "# 列に含まれるかどうか\n",
    "print(X_train.isna().any())\n",
    "# 行に含まれるかどうか\n",
    "print(X_train.isna().any(axis=1))"
   ],
   "metadata": {
    "collapsed": false
   }
  },
  {
   "cell_type": "code",
   "execution_count": 42,
   "outputs": [
    {
     "data": {
      "text/plain": "      LotFrontage  MasVnrArea  GarageYrBlt\nId                                        \n619          90.0       452.0       2007.0\n871          60.0         0.0       1962.0\n93           80.0         0.0       1921.0\n818           NaN       148.0       2002.0\n303         118.0       150.0       2001.0\n...           ...         ...          ...\n764          82.0       673.0       1999.0\n836          60.0         0.0       1996.0\n1217         68.0         0.0       1978.0\n560           NaN        18.0       2003.0\n685          58.0        30.0       1998.0\n\n[1168 rows x 3 columns]",
      "text/html": "<div>\n<style scoped>\n    .dataframe tbody tr th:only-of-type {\n        vertical-align: middle;\n    }\n\n    .dataframe tbody tr th {\n        vertical-align: top;\n    }\n\n    .dataframe thead th {\n        text-align: right;\n    }\n</style>\n<table border=\"1\" class=\"dataframe\">\n  <thead>\n    <tr style=\"text-align: right;\">\n      <th></th>\n      <th>LotFrontage</th>\n      <th>MasVnrArea</th>\n      <th>GarageYrBlt</th>\n    </tr>\n    <tr>\n      <th>Id</th>\n      <th></th>\n      <th></th>\n      <th></th>\n    </tr>\n  </thead>\n  <tbody>\n    <tr>\n      <th>619</th>\n      <td>90.0</td>\n      <td>452.0</td>\n      <td>2007.0</td>\n    </tr>\n    <tr>\n      <th>871</th>\n      <td>60.0</td>\n      <td>0.0</td>\n      <td>1962.0</td>\n    </tr>\n    <tr>\n      <th>93</th>\n      <td>80.0</td>\n      <td>0.0</td>\n      <td>1921.0</td>\n    </tr>\n    <tr>\n      <th>818</th>\n      <td>NaN</td>\n      <td>148.0</td>\n      <td>2002.0</td>\n    </tr>\n    <tr>\n      <th>303</th>\n      <td>118.0</td>\n      <td>150.0</td>\n      <td>2001.0</td>\n    </tr>\n    <tr>\n      <th>...</th>\n      <td>...</td>\n      <td>...</td>\n      <td>...</td>\n    </tr>\n    <tr>\n      <th>764</th>\n      <td>82.0</td>\n      <td>673.0</td>\n      <td>1999.0</td>\n    </tr>\n    <tr>\n      <th>836</th>\n      <td>60.0</td>\n      <td>0.0</td>\n      <td>1996.0</td>\n    </tr>\n    <tr>\n      <th>1217</th>\n      <td>68.0</td>\n      <td>0.0</td>\n      <td>1978.0</td>\n    </tr>\n    <tr>\n      <th>560</th>\n      <td>NaN</td>\n      <td>18.0</td>\n      <td>2003.0</td>\n    </tr>\n    <tr>\n      <th>685</th>\n      <td>58.0</td>\n      <td>30.0</td>\n      <td>1998.0</td>\n    </tr>\n  </tbody>\n</table>\n<p>1168 rows × 3 columns</p>\n</div>"
     },
     "execution_count": 42,
     "metadata": {},
     "output_type": "execute_result"
    }
   ],
   "source": [
    "cols_with_missing = [col for col in X_train.columns\n",
    "                     if X_train[col].isnull().any()]\n",
    "X_train_missing = X_train[cols_with_missing]\n",
    "X_train_missing"
   ],
   "metadata": {
    "collapsed": false
   }
  },
  {
   "cell_type": "code",
   "execution_count": 43,
   "outputs": [
    {
     "data": {
      "text/plain": "       LotFrontage   MasVnrArea  GarageYrBlt\ncount   956.000000  1162.000000  1110.000000\nmean     69.614017   103.481067  1978.140541\nstd      22.946069   182.676225    24.877265\nmin      21.000000     0.000000  1900.000000\n25%      59.000000     0.000000  1961.000000\n50%      69.000000     0.000000  1979.000000\n75%      80.000000   167.750000  2002.000000\nmax     313.000000  1600.000000  2010.000000",
      "text/html": "<div>\n<style scoped>\n    .dataframe tbody tr th:only-of-type {\n        vertical-align: middle;\n    }\n\n    .dataframe tbody tr th {\n        vertical-align: top;\n    }\n\n    .dataframe thead th {\n        text-align: right;\n    }\n</style>\n<table border=\"1\" class=\"dataframe\">\n  <thead>\n    <tr style=\"text-align: right;\">\n      <th></th>\n      <th>LotFrontage</th>\n      <th>MasVnrArea</th>\n      <th>GarageYrBlt</th>\n    </tr>\n  </thead>\n  <tbody>\n    <tr>\n      <th>count</th>\n      <td>956.000000</td>\n      <td>1162.000000</td>\n      <td>1110.000000</td>\n    </tr>\n    <tr>\n      <th>mean</th>\n      <td>69.614017</td>\n      <td>103.481067</td>\n      <td>1978.140541</td>\n    </tr>\n    <tr>\n      <th>std</th>\n      <td>22.946069</td>\n      <td>182.676225</td>\n      <td>24.877265</td>\n    </tr>\n    <tr>\n      <th>min</th>\n      <td>21.000000</td>\n      <td>0.000000</td>\n      <td>1900.000000</td>\n    </tr>\n    <tr>\n      <th>25%</th>\n      <td>59.000000</td>\n      <td>0.000000</td>\n      <td>1961.000000</td>\n    </tr>\n    <tr>\n      <th>50%</th>\n      <td>69.000000</td>\n      <td>0.000000</td>\n      <td>1979.000000</td>\n    </tr>\n    <tr>\n      <th>75%</th>\n      <td>80.000000</td>\n      <td>167.750000</td>\n      <td>2002.000000</td>\n    </tr>\n    <tr>\n      <th>max</th>\n      <td>313.000000</td>\n      <td>1600.000000</td>\n      <td>2010.000000</td>\n    </tr>\n  </tbody>\n</table>\n</div>"
     },
     "execution_count": 43,
     "metadata": {},
     "output_type": "execute_result"
    }
   ],
   "source": [
    "X_train_missing.describe()"
   ],
   "metadata": {
    "collapsed": false
   }
  },
  {
   "cell_type": "markdown",
   "source": [
    "LotFrontage: Linear feet of street connected to property\n",
    "物件に接続する道路の直線距離\n",
    "MasVnrArea: Masonry veneer area in square feet\n",
    "平方フィートで石造りのベニヤの面積\n",
    "GarageYrBlt: Year garage was built\n",
    "ガレージが建てられた年"
   ],
   "metadata": {
    "collapsed": false
   }
  },
  {
   "cell_type": "code",
   "execution_count": 48,
   "outputs": [
    {
     "name": "stdout",
     "output_type": "stream",
     "text": [
      "MAE from Approach 3 (Imputation by frequency):\n",
      "17956.065479452056\n"
     ]
    }
   ],
   "source": [
    "# 最頻値代入にしてみる\n",
    "my_imputer_freq = SimpleImputer(strategy='most_frequent')\n",
    "# 代入する\n",
    "final_X_train = pd.DataFrame(my_imputer_freq.fit_transform(X_train))\n",
    "final_X_valid = pd.DataFrame(my_imputer_freq.transform(X_valid))\n",
    "# 列名が落ちるので再入力\n",
    "final_X_train.columns = X_train.columns\n",
    "final_X_valid.columns = X_valid.columns\n",
    "# MAEを表示\n",
    "print(\"MAE from Approach 3 (Imputation by frequency):\")\n",
    "print(score_dataset(final_X_train, final_X_valid, y_train, y_valid))"
   ],
   "metadata": {
    "collapsed": false
   }
  },
  {
   "cell_type": "code",
   "execution_count": 52,
   "outputs": [],
   "source": [
    "## この方法で全訓練データを用いて検証\n",
    "# 全テストデータの欠損値を最頻値で代入\n",
    "final_X = pd.DataFrame(my_imputer_freq.fit_transform(X))\n",
    "# 同じ値を用いて代入\n",
    "final_X_test = pd.DataFrame(my_imputer_freq.transform(X_test))\n",
    "# modelにはpart1で成績の良かったものを用いる\n",
    "final_model = RandomForestRegressor(n_estimators = 100, random_state=1, criterion='absolute_error')\n",
    "# final_Xで学習させる\n",
    "final_model.fit(final_X, y)\n",
    "# 予測値計算\n",
    "preds_test = final_model.predict(final_X_test)\n",
    "# indexと一緒に出力\n",
    "output = pd.DataFrame({'Id': X_test.index,\n",
    "                       'SalePrice': preds_test})\n",
    "#書き出し\n",
    "output.to_csv('submission_20221011.csv', index=False)"
   ],
   "metadata": {
    "collapsed": false
   }
  }
 ],
 "metadata": {
  "kernelspec": {
   "display_name": "Python 3",
   "language": "python",
   "name": "python3"
  },
  "language_info": {
   "codemirror_mode": {
    "name": "ipython",
    "version": 2
   },
   "file_extension": ".py",
   "mimetype": "text/x-python",
   "name": "python",
   "nbconvert_exporter": "python",
   "pygments_lexer": "ipython2",
   "version": "2.7.6"
  }
 },
 "nbformat": 4,
 "nbformat_minor": 0
}
